{
 "cells": [
  {
   "cell_type": "markdown",
   "metadata": {
    "id": "FHwWnfSPmcwv"
   },
   "source": [
    "# Exercícios\n",
    "\n",
    "São exercícios bem parecidos com os que fizemos com listas. Mas na tupla, podemos não só trabalhar com índices, mas fazer o \"unpacking\" das tuplas, o que pode facilitar nossos códigos.\n",
    "\n",
    "## 1. Análise de Vendas\n",
    "\n",
    "Nesse exercício vamos fazer uma \"análise simples\" de atingimento de Meta.\n",
    "\n",
    "Temos uma lista com os vendedores e os valores de vendas e queremos identificar (printar) quais os vendedores que bateram a meta e qual foi o valor que eles venderam."
   ]
  },
  {
   "cell_type": "code",
   "execution_count": 4,
   "metadata": {
    "id": "dg-S-TZUmcw1"
   },
   "outputs": [
    {
     "name": "stdout",
     "output_type": "stream",
     "text": [
      "O(a) João bateu a meta com 15000 vendas\n",
      "O(a) Julia bateu a meta com 27000 vendas\n",
      "O(a) Ana bateu a meta com 10300 vendas\n"
     ]
    }
   ],
   "source": [
    "meta = 10000\n",
    "vendas = [\n",
    "    ('João', 15000),\n",
    "    ('Julia', 27000),\n",
    "    ('Marcus', 9900),\n",
    "    ('Maria', 3750),\n",
    "    ('Ana', 10300),\n",
    "    ('Alon', 7870),\n",
    "]\n",
    "faturamento=0\n",
    "for item in vendas:\n",
    "    nome,venda=item\n",
    "    if venda > meta:\n",
    "        print('O(a) {} bateu a meta com {} vendas'.format(nome,venda))\n",
    "        \n"
   ]
  },
  {
   "cell_type": "markdown",
   "metadata": {
    "id": "KUXrQ4DSmcw2"
   },
   "source": [
    "## 2. Comparação com Ano Anterior\n",
    "\n",
    "Digamos que você está analisando as vendas de produtos de um ecommerce e quer identificar quais produtos tiveram no ano de 2020 mais vendas do que no ano de 2019, para reportar isso para a diretoria.\n",
    "\n",
    "Sua resposta pode ser um print de cada produto, qual foi a venda de 2019, a venda de 2020 e o % de crescimento de 2020 para 2019.\n",
    "\n",
    "Lembrando, para calcular o % de crescimento de um produto de um ano para o outro, podemos fazer: (vendas_produto2020/vendas_produto2019 - 1)\n",
    "\n",
    "A lógica da tupla é: (produto, vendas2019, vendas2020)"
   ]
  },
  {
   "cell_type": "code",
   "execution_count": 9,
   "metadata": {
    "id": "Q5jsGAX5mcw3"
   },
   "outputs": [
    {
     "name": "stdout",
     "output_type": "stream",
     "text": [
      "O produto iphone vendeu melhor em 2020 com um aumento de  aproximadamente 70.50% \n",
      "------------------------------------------------------------------------------------------------------------------------\n",
      "O produto tv vendeu melhor em 2020 com um aumento de  aproximadamente 94.35% \n",
      "------------------------------------------------------------------------------------------------------------------------\n",
      "O produto máquina de café vendeu melhor em 2020 com um aumento de  aproximadamente 20.73% \n",
      "------------------------------------------------------------------------------------------------------------------------\n",
      "O produto notebook dell vendeu melhor em 2020 com um aumento de  aproximadamente 64.38% \n",
      "------------------------------------------------------------------------------------------------------------------------\n",
      "O produto notebook hp vendeu melhor em 2020 com um aumento de  aproximadamente 248.75% \n",
      "------------------------------------------------------------------------------------------------------------------------\n",
      "O produto microsoft surface vendeu melhor em 2020 com um aumento de  aproximadamente 52.15% \n",
      "------------------------------------------------------------------------------------------------------------------------\n",
      "O produto webcam vendeu melhor em 2020 com um aumento de  aproximadamente 24.49% \n",
      "------------------------------------------------------------------------------------------------------------------------\n",
      "O produto caixa de som vendeu melhor em 2020 com um aumento de  aproximadamente 48.11% \n",
      "------------------------------------------------------------------------------------------------------------------------\n",
      "O produto microfone vendeu melhor em 2020 com um aumento de  aproximadamente 96.34% \n",
      "------------------------------------------------------------------------------------------------------------------------\n",
      "O produto câmera canon vendeu melhor em 2020 com um aumento de  aproximadamente 68.21% \n",
      "------------------------------------------------------------------------------------------------------------------------\n"
     ]
    }
   ],
   "source": [
    "vendas_produtos = [('iphone', 558147, 951642), \n",
    "                   ('galaxy', 712350, 244295), \n",
    "                   ('ipad', 573823, 26964), \n",
    "                   ('tv', 405252, 787604), \n",
    "                   ('máquina de café', 718654, 867660), \n",
    "                   ('kindle', 531580, 78830), \n",
    "                   ('geladeira', 973139, 710331), \n",
    "                   ('adega', 892292, 646016), \n",
    "                   ('notebook dell', 422760, 694913), \n",
    "                   ('notebook hp', 154753, 539704), \n",
    "                   ('notebook asus', 887061, 324831), \n",
    "                   ('microsoft surface', 438508, 667179), \n",
    "                   ('webcam', 237467, 295633), \n",
    "                   ('caixa de som', 489705, 725316), \n",
    "                   ('microfone', 328311, 644622), \n",
    "                   ('câmera canon', 591120, 994303)]\n",
    "\n",
    "for item in vendas_produtos:\n",
    "    produto,vendas2019,vendas2020=item\n",
    "    if vendas2020>vendas2019:\n",
    "        menos=vendas2020-vendas2019\n",
    "        porcentagem=(menos/vendas2019)*100\n",
    "        print('O produto {} vendeu melhor em 2020 com um aumento de  aproximadamente {:.2f}% '.format(produto,porcentagem))\n",
    "        print('---'*40)"
   ]
  }
 ],
 "metadata": {
  "colab": {
   "provenance": []
  },
  "kernelspec": {
   "display_name": "Python 3 (ipykernel)",
   "language": "python",
   "name": "python3"
  },
  "language_info": {
   "codemirror_mode": {
    "name": "ipython",
    "version": 3
   },
   "file_extension": ".py",
   "mimetype": "text/x-python",
   "name": "python",
   "nbconvert_exporter": "python",
   "pygments_lexer": "ipython3",
   "version": "3.11.7"
  }
 },
 "nbformat": 4,
 "nbformat_minor": 4
}
