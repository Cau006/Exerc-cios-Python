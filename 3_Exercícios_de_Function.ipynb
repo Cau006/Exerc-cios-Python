{
 "cells": [
  {
   "cell_type": "markdown",
   "metadata": {
    "id": "onqrhDgw2sOd"
   },
   "source": [
    "# Exercícios\n",
    "\n",
    "### Antes de irmos para o desafio que apresentamos na última aula (que é bem mais complexo do que um exemplo simples) vamos resolver um exercício um pouco mais simples para treinar\n",
    "\n",
    "## 1. Cálculo do Percentual e da Lista de Vendedores\n",
    "\n",
    "- Queremos criar uma function que consiga identificar os vendedores que bateram uma meta, mas além disso, consigo já me dar como resposta o cálculo do % da lista de vendedores que bateu a meta (para eu não precisar calcular manualmente depois)\n",
    "- Essa function deve receber 2 informações como parâmetro: a meta e um dicionário com os vendedores e suas vendas. E me dar 2 respostas: uma lista com o nome dos vendedores que bateram a meta e o % de vendedores que bateu a meta."
   ]
  },
  {
   "cell_type": "code",
   "execution_count": 40,
   "metadata": {
    "id": "vIlzqMhV2sOf"
   },
   "outputs": [],
   "source": [
    "meta = 10000\n",
    "vendas = {\n",
    "    'João': 15000,\n",
    "    'Julia': 27000,\n",
    "    'Marcus': 9900,\n",
    "    'Maria': 3750,\n",
    "    'Ana': 10300,\n",
    "    'Alon': 7870,\n",
    "}"
   ]
  },
  {
   "cell_type": "code",
   "execution_count": 43,
   "metadata": {
    "id": "3ivaitoS2sOg"
   },
   "outputs": [],
   "source": [
    "def conta(vendas , meta ):\n",
    "    bateram = []\n",
    "    for nome, recebeu in vendas.items():\n",
    "        if recebeu > meta:\n",
    "            print(f'{nome} bateu a meta com R${recebeu :.2f}')\n",
    "            bateram.append(nome)\n",
    "    vendedores = len(vendas)\n",
    "    porcentagem = (len(bateram)/vendedores)*100\n",
    "    print(f'{porcentagem :.1f}% dos vendedores bateram a meta de R${meta}')"
   ]
  },
  {
   "cell_type": "code",
   "execution_count": 44,
   "metadata": {
    "id": "A_gqcjh62sOg"
   },
   "outputs": [
    {
     "name": "stdout",
     "output_type": "stream",
     "text": [
      "João bateu a meta com R$15000.00\n",
      "Julia bateu a meta com R$27000.00\n",
      "Ana bateu a meta com R$10300.00\n",
      "50.0% dos vendedores bateram a meta de R$10000\n"
     ]
    }
   ],
   "source": [
    "conta(vendas,meta)"
   ]
  }
 ],
 "metadata": {
  "colab": {
   "provenance": []
  },
  "kernelspec": {
   "display_name": "Python 3 (ipykernel)",
   "language": "python",
   "name": "python3"
  },
  "language_info": {
   "codemirror_mode": {
    "name": "ipython",
    "version": 3
   },
   "file_extension": ".py",
   "mimetype": "text/x-python",
   "name": "python",
   "nbconvert_exporter": "python",
   "pygments_lexer": "ipython3",
   "version": "3.11.7"
  }
 },
 "nbformat": 4,
 "nbformat_minor": 4
}
