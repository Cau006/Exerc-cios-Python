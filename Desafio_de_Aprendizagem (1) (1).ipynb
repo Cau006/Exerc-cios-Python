{
 "cells": [
  {
   "cell_type": "markdown",
   "id": "3ca3903d",
   "metadata": {
    "id": "3ca3903d"
   },
   "source": [
    "# Desafio de Aprendizagem - Biblioteca SENAI \"Morvan Figueiredo\""
   ]
  },
  {
   "cell_type": "markdown",
   "id": "240591c0",
   "metadata": {
    "id": "240591c0"
   },
   "source": [
    "## Você está encarregado de criar um sistema de gerenciamento de empréstimos de livros, coleta de avaliações de livros pelos alunos e registro de avaliações do atendimento da biblioteca para a Escola SENAI \"Morvan Figueiredo\".\n",
    "## Utilize o programa fornecido abaixo e siga as instruções para realizar as tarefas."
   ]
  },
  {
   "cell_type": "markdown",
   "id": "bdf3496d",
   "metadata": {
    "id": "bdf3496d"
   },
   "source": [
    "### Ao finalizar as tarefas, reflita sobre o processo e explique como o programa demonstra o uso de estruturas de dados, iterações e interações com o usuário para gerenciar empréstimos, avaliações e atendimento da biblioteca."
   ]
  },
  {
   "cell_type": "markdown",
   "id": "0d52d3cd",
   "metadata": {
    "id": "0d52d3cd"
   },
   "source": [
    ".\n",
    ".\n",
    "\n",
    "..\n",
    ".\n",
    ".\n",
    ".\n",
    "..\n",
    ".\n",
    ".\n",
    ".\n",
    ".\n",
    ".\n",
    ".\n",
    "\n",
    ".\n",
    ".\n",
    ".\n",
    "."
   ]
  },
  {
   "cell_type": "markdown",
   "id": "7b451d37",
   "metadata": {
    "id": "7b451d37"
   },
   "source": [
    "### Esse desafio de aprendizagem combina os conceitos que vimos até o momento, como estruturas de controle, manipulação de dicionários, listas e iterações. Ao concluir as tarefas e a reflexão, você estará aplicando diversos aspectos da programação em um cenário realista."
   ]
  },
  {
   "cell_type": "markdown",
   "id": "bd33428b",
   "metadata": {
    "id": "bd33428b"
   },
   "source": [
    "## Tarefas:"
   ]
  },
  {
   "cell_type": "markdown",
   "id": "8ea15f61",
   "metadata": {
    "id": "8ea15f61"
   },
   "source": [
    "## 1 - Registro de Empréstimos:\n",
    "\n",
    "### Registre os empréstimos de livros para os  alunos fictícios da escola.\n",
    "## 2 -  Avaliação de Livros:\n",
    "\n",
    "### Após os empréstimos, simule que os alunos leram os livros e atribua notas de avaliação aos livros emprestados.\n",
    "\n",
    "## 3 - Avaliação do Atendimento da Biblioteca:\n",
    "\n",
    "###  Registre avaliações do atendimento da biblioteca por parte dos alunos.\n",
    "\n",
    "## 4 - Imprimir Relatório:\n",
    "\n",
    "### Após realizar as ações anteriores, imprima um relatório que apresente as informações sobre os empréstimos, avaliações dos livros e a média das avaliações do atendimento da biblioteca.\n"
   ]
  },
  {
   "cell_type": "code",
   "execution_count": 7,
   "id": "e2b41de2",
   "metadata": {
    "id": "e2b41de2"
   },
   "outputs": [
    {
     "name": "stdout",
     "output_type": "stream",
     "text": [
      "Qual é seu nome? Acs\n",
      "Qual livro você quer? haKUNAMATATA\n",
      "Por favor entregue o livro em 15 dias\n",
      "Tem mais alguém que dejesa pegar um livro? Barbosa\n",
      "Qual é seu nome? Barbosa\n",
      "Qual livro você quer? gordo\n",
      "Por favor entregue o livro em 15 dias\n",
      "Tem mais alguém que dejesa pegar um livro? não\n"
     ]
    }
   ],
   "source": [
    "escolha=''\n",
    "livros=[]\n",
    "nomes=[]\n",
    "while escolha.lower() != 'não':\n",
    "    nome=input('Qual é seu nome? ')\n",
    "    livro=input('Qual livro você quer? ')\n",
    "    print('Por favor entregue o livro em 15 dias')\n",
    "    livros.append(livro)\n",
    "    nomes.append(nome)\n",
    "    escolha=(input('Tem mais alguém que dejesa pegar um livro? '))"
   ]
  },
  {
   "cell_type": "code",
   "execution_count": 8,
   "id": "7396d8db",
   "metadata": {
    "id": "7396d8db"
   },
   "outputs": [
    {
     "name": "stdout",
     "output_type": "stream",
     "text": [
      "Acs qual nota você dá para o/a haKUNAMATATA? 10\n",
      "Acs quantos dias você demorou para ler o livro haKUNAMATATA? 2\n",
      "Barbosa qual nota você dá para o/a gordo? 0\n",
      "Barbosa quantos dias você demorou para ler o livro gordo? 16\n"
     ]
    }
   ],
   "source": [
    "notas=[]\n",
    "dias=[]\n",
    "for i in range (len(livros)):\n",
    "    nota=float(input('{} qual nota você dá para o/a {}? '.format(nomes[i],livros[i])))\n",
    "    dia=float(input('{} quantos dias você demorou para ler o livro {}? '.format(nomes[i],livros[i])))\n",
    "    dias.append(dia)\n",
    "    notas.append(nota)"
   ]
  },
  {
   "cell_type": "code",
   "execution_count": 9,
   "id": "c24c5096",
   "metadata": {
    "id": "c24c5096"
   },
   "outputs": [
    {
     "name": "stdout",
     "output_type": "stream",
     "text": [
      "Acs qual nota você dá para a biblioteca? 10\n",
      "Barbosa qual nota você dá para a biblioteca? 0\n"
     ]
    }
   ],
   "source": [
    "notas_bio=[]\n",
    "for i in range(len(livros)):\n",
    "    nota_bio=float(input('{} qual nota você dá para a biblioteca? '.format(nomes[i])))\n",
    "    notas_bio.append(nota_bio)"
   ]
  },
  {
   "cell_type": "code",
   "execution_count": 12,
   "id": "2b21aa21",
   "metadata": {
    "id": "2b21aa21"
   },
   "outputs": [
    {
     "name": "stdout",
     "output_type": "stream",
     "text": [
      "O Acs deu 10.0 de nota para o livro haKUNAMATATA, já a nota dele para a biblioteca é 10.0, o mesmo entregou em 2 dias\n",
      "O Barbosa deu 0.0 de nota para o livro gordo, já a nota dele para a biblioteca é 0.0, o mesmo atrasou em 16 dias \n"
     ]
    }
   ],
   "source": [
    "for i in range(len(livros)):\n",
    "    if dias[i]<15:\n",
    "        print('O {} deu {} de nota para o livro {}, já a nota dele para a biblioteca é {}, o mesmo entregou em {:.0f} dias'.format(nomes[i], notas[i],livros[i],notas_bio[i], dias[i]))\n",
    "    elif dias[i]>15:\n",
    "        print('O {} deu {} de nota para o livro {}, já a nota dele para a biblioteca é {}, o mesmo atrasou em {:.0f} dias '.format(nomes[i], notas[i],livros[i],notas_bio[i],dias[i]))\n"
   ]
  },
  {
   "cell_type": "code",
   "execution_count": null,
   "id": "a6fd87f1",
   "metadata": {},
   "outputs": [],
   "source": [
    "escolha=''\n",
    "livros=[]\n",
    "nomes=[]\n",
    "notas_bio=[]\n",
    "dias=[]\n",
    "notas=[]\n",
    "\n",
    "while escolha.lower() != 'não':\n",
    "    nome=input('\\n Qual é seu nome? ')\n",
    "    livro=input('Qual livro você quer? \\n ')\n",
    "    if livro not in livros:\n",
    "        print('Por favor entregue o livro em 15 dias')\n",
    "        livros.append(livro)\n",
    "        nomes.append(nome)\n",
    "        escolha=(input('Tem mais alguém que dejesa pegar um livro? \\n'))\n",
    "    else:\n",
    "        print('Esse livro já foi pego, tente outro \\n')\n",
    "        livro=input('Qual livro você quer? ')\n",
    "        print('Por favor entregue o livro em 15 dias')\n",
    "        livros.append(livro)\n",
    "        nomes.append(nome)\n",
    "        escolha=(input('Tem mais alguém que dejesa pegar um livro? '))\n",
    "        \n",
    "for i in range (len(livros)):\n",
    "    nota=float(input('{} qual nota você dá para o/a {}? \\n'.format(nomes[i],livros[i])))\n",
    "    dia=float(input('{} quantos dias você demorou para ler o livro {}? \\n'.format(nomes[i],livros[i])))\n",
    "    dias.append(dia)\n",
    "    notas.append(nota)\n",
    "\n",
    "\n",
    "for i in range(len(livros)):\n",
    "    nota_bio=float(input('{} qual nota você dá para a biblioteca? \\n'.format(nomes[i])))\n",
    "    notas_bio.append(nota_bio)\n",
    "\n",
    "\n",
    "for i in range(len(livros)):\n",
    "    if dias[i]<15:\n",
    "        print('O {} deu {} de nota para o livro {}, já a nota dele para a biblioteca é {}, o mesmo entregou em {:.0f} dias \\n'.format(nomes[i], notas[i],livros[i],notas_bio[i], dias[i]))\n",
    "    elif dias[i]>15:\n",
    "        print('O {} deu {} de nota para o livro {}, já a nota dele para a biblioteca é {}, o mesmo atrasou em {:.0f} dias \\n'.format(nomes[i], notas[i],livros[i],notas_bio[i],dias[i]))\n"
   ]
  },
  {
   "cell_type": "code",
   "execution_count": null,
   "id": "9640272a-01f6-40b9-bfa0-1dc9631b9467",
   "metadata": {},
   "outputs": [],
   "source": []
  }
 ],
 "metadata": {
  "colab": {
   "provenance": []
  },
  "kernelspec": {
   "display_name": "Python 3 (ipykernel)",
   "language": "python",
   "name": "python3"
  },
  "language_info": {
   "codemirror_mode": {
    "name": "ipython",
    "version": 3
   },
   "file_extension": ".py",
   "mimetype": "text/x-python",
   "name": "python",
   "nbconvert_exporter": "python",
   "pygments_lexer": "ipython3",
   "version": "3.11.7"
  }
 },
 "nbformat": 4,
 "nbformat_minor": 5
}
