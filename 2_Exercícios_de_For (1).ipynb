{
 "cells": [
  {
   "cell_type": "markdown",
   "metadata": {
    "id": "Ho-n4IcvtKsY"
   },
   "source": [
    "# Exercícios\n",
    "\n",
    "## 1. Calculando % de uma lista\n",
    "\n",
    "Faremos algo parecido com \"filtrar\" uma lista. Mais pra frente no curso aprenderemos outras formas de fazer isso, mas com o nosso conhecimentoa atual já conseguimos resolver o desafio.\n",
    "\n",
    "Digamos que a gente tenha uma lista de vendedores e ao invés de saber todos os vendedores que bateram a meta, eu quero conseguir calcular o % de vendedores que bateram a meta. Ou seja, se temos 10 vendedores e 3 bateram a meta, temos 30% dos vendedores que bateram a meta."
   ]
  },
  {
   "cell_type": "code",
   "execution_count": 23,
   "metadata": {
    "id": "9BK-H7ZjtKsb"
   },
   "outputs": [
    {
     "name": "stdout",
     "output_type": "stream",
     "text": [
      "O João bateu a meta com R$15000.00\n",
      "O Julia bateu a meta com R$27000.00\n",
      "O Ana bateu a meta com R$10300.00\n",
      "O percentual de pessoas que bateram a meta foi de 50.0%\n"
     ]
    }
   ],
   "source": [
    "meta = 10000\n",
    "vendas = [\n",
    "    ['João', 15000],\n",
    "    ['Julia', 27000],\n",
    "    ['Marcus', 9900],\n",
    "    ['Maria', 3750],\n",
    "    ['Ana', 10300],\n",
    "    ['Alon', 7870],\n",
    "]\n",
    "qtde_bateu_meta=0\n",
    "for venda in vendas:\n",
    "    if venda[1] >= meta:\n",
    "        qtde_bateu_meta += 1\n",
    "        print('O {} bateu a meta com R${:.2f}'.format(venda[0],venda[1]))\n",
    "qtde_funcionarios=len(vendas)\n",
    "print('O percentual de pessoas que bateram a meta foi de {:.1%}'.format(qtde_bateu_meta/qtde_funcionarios))    "
   ]
  },
  {
   "cell_type": "markdown",
   "metadata": {
    "id": "vpfWnF7xtKsd"
   },
   "source": [
    "- Vamos resolver de 2 formas:\n",
    "    1. Criando uma lista auxiliar apenas com os vendedores que bateram a meta\n",
    "    2. Fazendo o cálculo diretamente na lista que já temos"
   ]
  },
  {
   "cell_type": "markdown",
   "metadata": {
    "id": "GNZcfl5CtKsd"
   },
   "source": [
    "## Para treinar uma estrutura parecida, crie um código para responder: quem foi o vendedor que mais vendeu?"
   ]
  },
  {
   "cell_type": "code",
   "execution_count": 24,
   "metadata": {
    "id": "_NDRfWPOtKsd"
   },
   "outputs": [
    {
     "name": "stdout",
     "output_type": "stream",
     "text": [
      "O vendedor que mais vendeu foi Julia com R$27000.00\n"
     ]
    }
   ],
   "source": [
    "vendas = [\n",
    "    ['João', 15000],\n",
    "    ['Julia', 27000],\n",
    "    ['Marcus', 9900],\n",
    "    ['Maria', 3750],\n",
    "    ['Ana', 10300],\n",
    "    ['Alon', 7870],\n",
    "]\n",
    "venda_atual=0\n",
    "for venda in vendas:\n",
    "    if venda_atual < venda[1]:\n",
    "        venda_atual=+venda[1]\n",
    "        nome_atual=venda[0]\n",
    "print('O vendedor que mais vendeu foi {} com R${:.2f}'.format(nome_atual,venda_atual))"
   ]
  }
 ],
 "metadata": {
  "colab": {
   "provenance": []
  },
  "kernelspec": {
   "display_name": "Python 3 (ipykernel)",
   "language": "python",
   "name": "python3"
  },
  "language_info": {
   "codemirror_mode": {
    "name": "ipython",
    "version": 3
   },
   "file_extension": ".py",
   "mimetype": "text/x-python",
   "name": "python",
   "nbconvert_exporter": "python",
   "pygments_lexer": "ipython3",
   "version": "3.11.5"
  }
 },
 "nbformat": 4,
 "nbformat_minor": 1
}
