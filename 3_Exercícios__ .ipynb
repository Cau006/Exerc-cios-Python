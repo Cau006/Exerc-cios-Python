{
 "cells": [
  {
   "cell_type": "markdown",
   "id": "c68d6f8e",
   "metadata": {
    "id": "c68d6f8e"
   },
   "source": [
    "# Exercícios - Testando Conhecimentos Aprendidos em Aula\n",
    "\n",
    "### Neste conjunto de exercícios, você será desafiado a aplicar os conceitos aprendidos sobre listas em Python. Os exercícios abrangem operações como criação de listas, remoção de elementos, adição de itens, índices, uso de list comprehensions e muito mais. Siga as instruções de cada exercício e tente resolver utilizando apenas o código dentro do script."
   ]
  },
  {
   "cell_type": "markdown",
   "id": "69d0f7dc",
   "metadata": {
    "id": "69d0f7dc"
   },
   "source": [
    "##"
   ]
  },
  {
   "cell_type": "markdown",
   "id": "ec501626",
   "metadata": {
    "id": "ec501626"
   },
   "source": [
    "### 1 - Crie uma lista contendo os nomes de 5 países. Peça ao usuário para inserir o nome de mais um país. Em seguida, verifique se o país fornecido pelo usuário está na lista e exiba uma mensagem informando se ele está ou não na lista."
   ]
  },
  {
   "cell_type": "code",
   "execution_count": 29,
   "id": "db57457f",
   "metadata": {
    "id": "db57457f"
   },
   "outputs": [
    {
     "name": "stdout",
     "output_type": "stream",
     "text": [
      "Escreva um país para ver se ele esta na lista: brasil\n",
      "Este país já esta na lista\n"
     ]
    }
   ],
   "source": [
    "países=['brasil','frança','inglaterra','argentina','mexico']\n",
    "escolhido=(input('Escreva um país para ver se ele esta na lista: '))\n",
    "if países.count(escolhido.lower())==0:\n",
    "    print('Este país não esta na lista')\n",
    "elif países.count(escolhido.lower())>0:\n",
    "    print('Este país já esta na lista')\n",
    "else:\n",
    "    print('Dado ínvalido')"
   ]
  },
  {
   "cell_type": "markdown",
   "id": "979aeae5",
   "metadata": {
    "id": "979aeae5"
   },
   "source": [
    "### 2 - Crie uma lista contendo os preços de 5 produtos. Em seguida, calcule e exiba o preço médio desses produtos."
   ]
  },
  {
   "cell_type": "code",
   "execution_count": 22,
   "id": "2748950b",
   "metadata": {
    "id": "2748950b"
   },
   "outputs": [
    {
     "name": "stdout",
     "output_type": "stream",
     "text": [
      "A média dos produtos é R$734.00 \n"
     ]
    }
   ],
   "source": [
    "produtos=[\"celular\",\"tv\",\"tablet\",\"monitor\",\"mouse\"]\n",
    "preço=[500,2000,1000,130,40]\n",
    "média=sum(preço)/len(produtos)\n",
    "print('A média dos produtos é R${:.2f} '.format(média))"
   ]
  },
  {
   "cell_type": "markdown",
   "id": "504c48df",
   "metadata": {
    "id": "504c48df"
   },
   "source": [
    "  ### 3 - Crie uma lista com 5 cores diferentes. Peça ao usuário para inserir o nome de uma cor. Se a cor estiver na lista, remova-a e exiba a lista atualizada. Caso contrário, exiba uma mensagem informando que a cor não foi encontrada."
   ]
  },
  {
   "cell_type": "code",
   "execution_count": 2,
   "id": "f2681580",
   "metadata": {
    "id": "f2681580"
   },
   "outputs": [
    {
     "name": "stdout",
     "output_type": "stream",
     "text": [
      "Escreva uma cor para remover: azul\n",
      "['roxo', 'preto', 'branco', 'vermelho']\n"
     ]
    }
   ],
   "source": [
    "cores=['roxo','preto','branco','azul','vermelho']\n",
    "escolhido=(input('Escreva uma cor para remover: '))\n",
    "if cores.count(escolhido.lower())>0:\n",
    "    cores.remove(escolhido.lower())\n",
    "    print(cores)\n",
    "elif cores.count(escolhido.lower())==0:\n",
    "    print('Esta cor não foi encontrada')\n",
    "else:\n",
    "    print('Dado ínvalido')"
   ]
  },
  {
   "cell_type": "markdown",
   "id": "536d487d",
   "metadata": {
    "id": "536d487d"
   },
   "source": [
    "### 4 - Escreva um programa que leia duas listas de números do usuário e verifique se elas têm o mesmo comprimento e se possuem elementos iguais nas mesmas posições. Exiba uma mensagem informando se as listas são iguais ou diferentes."
   ]
  },
  {
   "cell_type": "code",
   "execution_count": 27,
   "id": "612d02de",
   "metadata": {
    "id": "612d02de"
   },
   "outputs": [
    {
     "name": "stdout",
     "output_type": "stream",
     "text": [
      "----------------------------------------------------------------------------------------------------\n",
      "Elas possuem apenas o mesmo comprimento\n"
     ]
    }
   ],
   "source": [
    "lista1=[1,2,3]\n",
    "lista2=[3,2,1]\n",
    "print('-'*100)\n",
    "if lista1 == lista2:\n",
    "    print('Elas são iguais ')\n",
    "elif len(lista1)==len(lista2):\n",
    "    print('Elas possuem apenas o mesmo comprimento')\n",
    "elif lista1 != lista2:\n",
    "    print('Elas são diferentes')\n"
   ]
  },
  {
   "cell_type": "markdown",
   "id": "462e7a14",
   "metadata": {
    "id": "462e7a14"
   },
   "source": [
    "### 5 - Crie uma lista contendo 10 números. Em seguida, solicite ao usuário que insira um número. Verifique se o número fornecido pelo usuário está na lista e, se estiver, exiba em quantas posições ele aparece."
   ]
  },
  {
   "cell_type": "code",
   "execution_count": null,
   "id": "0c14c7e0",
   "metadata": {
    "id": "4faa687c"
   },
   "outputs": [],
   "source": [
    "números = [1,2,3,4,5,6,7,8,9,2]\n",
    "escolhido=float(input('Digite um número: '))\n",
    "if (escolhido in números)==False:\n",
    "    print('Ele não aparece nenhuma vez')\n",
    "if escolhido in números:\n",
    "    print('Ele aparece {} vez/vezes'.format(números.count(escolhido)))\n"
   ]
  },
  {
   "cell_type": "markdown",
   "id": "dcf80a5a",
   "metadata": {
    "id": "dcf80a5a"
   },
   "source": [
    "### 6 - Escreva uma função que recebe uma palavra e verifica se é um palíndromo, ou seja, se a palavra é igual quando lida de trás para frente."
   ]
  },
  {
   "cell_type": "code",
   "execution_count": 39,
   "id": "8855c87e",
   "metadata": {
    "id": "8855c87e"
   },
   "outputs": [
    {
     "ename": "KeyboardInterrupt",
     "evalue": "Interrupted by user",
     "output_type": "error",
     "traceback": [
      "\u001b[1;31m---------------------------------------------------------------------------\u001b[0m",
      "\u001b[1;31mKeyboardInterrupt\u001b[0m                         Traceback (most recent call last)",
      "Cell \u001b[1;32mIn[39], line 1\u001b[0m\n\u001b[1;32m----> 1\u001b[0m palavra\u001b[38;5;241m=\u001b[39m\u001b[38;5;28minput\u001b[39m(\u001b[38;5;124m'\u001b[39m\u001b[38;5;124mInsira uma palavra: \u001b[39m\u001b[38;5;124m'\u001b[39m)\n\u001b[0;32m      2\u001b[0m reverso\u001b[38;5;241m=\u001b[39mpalavra[::\u001b[38;5;241m-\u001b[39m\u001b[38;5;241m1\u001b[39m]\n\u001b[0;32m      3\u001b[0m \u001b[38;5;28;01mif\u001b[39;00m palavra \u001b[38;5;241m==\u001b[39m reverso:\n",
      "File \u001b[1;32m~\\anaconda3\\Lib\\site-packages\\ipykernel\\kernelbase.py:1202\u001b[0m, in \u001b[0;36mKernel.raw_input\u001b[1;34m(self, prompt)\u001b[0m\n\u001b[0;32m   1200\u001b[0m     msg \u001b[38;5;241m=\u001b[39m \u001b[38;5;124m\"\u001b[39m\u001b[38;5;124mraw_input was called, but this frontend does not support input requests.\u001b[39m\u001b[38;5;124m\"\u001b[39m\n\u001b[0;32m   1201\u001b[0m     \u001b[38;5;28;01mraise\u001b[39;00m StdinNotImplementedError(msg)\n\u001b[1;32m-> 1202\u001b[0m \u001b[38;5;28;01mreturn\u001b[39;00m \u001b[38;5;28mself\u001b[39m\u001b[38;5;241m.\u001b[39m_input_request(\n\u001b[0;32m   1203\u001b[0m     \u001b[38;5;28mstr\u001b[39m(prompt),\n\u001b[0;32m   1204\u001b[0m     \u001b[38;5;28mself\u001b[39m\u001b[38;5;241m.\u001b[39m_parent_ident[\u001b[38;5;124m\"\u001b[39m\u001b[38;5;124mshell\u001b[39m\u001b[38;5;124m\"\u001b[39m],\n\u001b[0;32m   1205\u001b[0m     \u001b[38;5;28mself\u001b[39m\u001b[38;5;241m.\u001b[39mget_parent(\u001b[38;5;124m\"\u001b[39m\u001b[38;5;124mshell\u001b[39m\u001b[38;5;124m\"\u001b[39m),\n\u001b[0;32m   1206\u001b[0m     password\u001b[38;5;241m=\u001b[39m\u001b[38;5;28;01mFalse\u001b[39;00m,\n\u001b[0;32m   1207\u001b[0m )\n",
      "File \u001b[1;32m~\\anaconda3\\Lib\\site-packages\\ipykernel\\kernelbase.py:1245\u001b[0m, in \u001b[0;36mKernel._input_request\u001b[1;34m(self, prompt, ident, parent, password)\u001b[0m\n\u001b[0;32m   1242\u001b[0m \u001b[38;5;28;01mexcept\u001b[39;00m \u001b[38;5;167;01mKeyboardInterrupt\u001b[39;00m:\n\u001b[0;32m   1243\u001b[0m     \u001b[38;5;66;03m# re-raise KeyboardInterrupt, to truncate traceback\u001b[39;00m\n\u001b[0;32m   1244\u001b[0m     msg \u001b[38;5;241m=\u001b[39m \u001b[38;5;124m\"\u001b[39m\u001b[38;5;124mInterrupted by user\u001b[39m\u001b[38;5;124m\"\u001b[39m\n\u001b[1;32m-> 1245\u001b[0m     \u001b[38;5;28;01mraise\u001b[39;00m \u001b[38;5;167;01mKeyboardInterrupt\u001b[39;00m(msg) \u001b[38;5;28;01mfrom\u001b[39;00m \u001b[38;5;28;01mNone\u001b[39;00m\n\u001b[0;32m   1246\u001b[0m \u001b[38;5;28;01mexcept\u001b[39;00m \u001b[38;5;167;01mException\u001b[39;00m:\n\u001b[0;32m   1247\u001b[0m     \u001b[38;5;28mself\u001b[39m\u001b[38;5;241m.\u001b[39mlog\u001b[38;5;241m.\u001b[39mwarning(\u001b[38;5;124m\"\u001b[39m\u001b[38;5;124mInvalid Message:\u001b[39m\u001b[38;5;124m\"\u001b[39m, exc_info\u001b[38;5;241m=\u001b[39m\u001b[38;5;28;01mTrue\u001b[39;00m)\n",
      "\u001b[1;31mKeyboardInterrupt\u001b[0m: Interrupted by user"
     ]
    }
   ],
   "source": [
    "palavra=input('Insira uma palavra: ')\n",
    "reverso=palavra[::-1]\n",
    "if palavra == reverso:\n",
    "    print('Ele é um palíndromo')\n",
    "elif palavra != reverso:\n",
    "    print('Ele não é um palíndromo')\n",
    "else:\n",
    "    print('Dado incorreto')"
   ]
  },
  {
   "cell_type": "markdown",
   "id": "7a0ff2fc",
   "metadata": {
    "id": "7a0ff2fc"
   },
   "source": [
    "### 7 - Escreva uma função que recebe duas listas e retorna uma nova lista que é a concatenação das duas."
   ]
  },
  {
   "cell_type": "code",
   "execution_count": 59,
   "id": "3ce93eaf",
   "metadata": {
    "id": "3ce93eaf"
   },
   "outputs": [
    {
     "name": "stdout",
     "output_type": "stream",
     "text": [
      "[1, 2, 3, 4, 3, 5, 6, 2, 8]\n"
     ]
    }
   ],
   "source": [
    "lista1=[1,2,3,4]\n",
    "lista2=[3,5,6,2,8]\n",
    "lista3=lista1+(lista2)\n",
    "print(lista3)"
   ]
  },
  {
   "cell_type": "markdown",
   "id": "1616e8c8",
   "metadata": {
    "id": "1616e8c8"
   },
   "source": [
    "### 8 - Escreva uma função que recebe uma lista e dois índices e troca os elementos presentes nos índices fornecidos."
   ]
  },
  {
   "cell_type": "code",
   "execution_count": 52,
   "id": "f0e738fd",
   "metadata": {
    "id": "afa9e00a"
   },
   "outputs": [
    {
     "name": "stdout",
     "output_type": "stream",
     "text": [
      "digite um número 2\n",
      "digite uma cor laranja\n",
      "['verde', 'azul', 'laranja', 'preto']\n"
     ]
    }
   ],
   "source": [
    "lista1 = ['verde', 'azul', 'jaranja', 'preto']\n",
    "indice= (int(input('digite um número ')))\n",
    "\n",
    "cor= (input ('digite uma cor '))\n",
    "lista1.pop(indice)\n",
    "lista1.insert(indice,cor)\n",
    "print (lista1)"
   ]
  },
  {
   "cell_type": "markdown",
   "id": "d77bef5e",
   "metadata": {
    "id": "d77bef5e"
   },
   "source": [
    "### 9 - Escreva uma função que recebe uma lista e retorna uma nova lista com os elementos invertidos na ordem."
   ]
  },
  {
   "cell_type": "code",
   "execution_count": 47,
   "id": "44da2eb8",
   "metadata": {
    "id": "44da2eb8"
   },
   "outputs": [
    {
     "name": "stdout",
     "output_type": "stream",
     "text": [
      "A lista normal: \n",
      " ['apple', 'banana', 'cherry']\n",
      "----------------------------------------------------------------------------------------------------\n",
      "A lista invertida: \n",
      " ['cherry', 'banana', 'apple']\n"
     ]
    }
   ],
   "source": [
    "fruta = ['apple', 'banana', 'cherry']\n",
    "print('A lista normal: \\n' , fruta)\n",
    "print('-'*100)\n",
    "fruta.reverse()\n",
    "print('A lista invertida: \\n' , fruta)"
   ]
  },
  {
   "cell_type": "markdown",
   "id": "a840c743",
   "metadata": {
    "id": "a840c743"
   },
   "source": [
    "### 10 - Escreva uma função que recebe uma lista de palavras e retorna uma nova lista contendo apenas as palavras únicas, ou seja, palavras que aparecem apenas uma vez na lista."
   ]
  },
  {
   "cell_type": "code",
   "execution_count": 92,
   "id": "0924cdcc",
   "metadata": {
    "id": "0924cdcc"
   },
   "outputs": [
    {
     "name": "stdout",
     "output_type": "stream",
     "text": [
      "----------------------------------------------------------------------------------------------------\n",
      "A lista com apenas palavras únicas: ['palavra', 'flamengo']\n"
     ]
    }
   ],
   "source": [
    "lista=['número','palavra','número','flamengo']\n",
    "lista2=lista.copy()\n",
    "for listaU in range(len(lista)):\n",
    "    palavra=lista2[listaU]\n",
    "    if lista2.count(palavra)>1:\n",
    "        lista.remove(palavra)\n",
    "print('-'*100)\n",
    "print('A lista com apenas palavras únicas:',lista)\n",
    "        "
   ]
  },
  {
   "cell_type": "code",
   "execution_count": 86,
   "id": "8e6c1437",
   "metadata": {},
   "outputs": [
    {
     "ename": "TypeError",
     "evalue": "'>=' not supported between instances of 'str' and 'int'",
     "output_type": "error",
     "traceback": [
      "\u001b[1;31m---------------------------------------------------------------------------\u001b[0m",
      "\u001b[1;31mTypeError\u001b[0m                                 Traceback (most recent call last)",
      "Cell \u001b[1;32mIn[86], line 5\u001b[0m\n\u001b[0;32m      3\u001b[0m \u001b[38;5;28;01mfor\u001b[39;00m listaU \u001b[38;5;129;01min\u001b[39;00m lista:\n\u001b[0;32m      4\u001b[0m     palavra\u001b[38;5;241m=\u001b[39mlista2[i]\n\u001b[1;32m----> 5\u001b[0m     \u001b[38;5;28;01mif\u001b[39;00m listaU \u001b[38;5;241m>\u001b[39m\u001b[38;5;241m=\u001b[39m \u001b[38;5;28mlen\u001b[39m(lista3):\n\u001b[0;32m      6\u001b[0m         \u001b[38;5;28;01mif\u001b[39;00m lista2\u001b[38;5;241m.\u001b[39mcount(palavra)\u001b[38;5;241m>\u001b[39m\u001b[38;5;241m1\u001b[39m:\n\u001b[0;32m      7\u001b[0m             lista3\u001b[38;5;241m.\u001b[39mremove(palavra)\n",
      "\u001b[1;31mTypeError\u001b[0m: '>=' not supported between instances of 'str' and 'int'"
     ]
    }
   ],
   "source": [
    "lista3=['número','palavra','número','flamengo']\n",
    "lista2=lista3.copy()\n",
    "for listaU in lista:\n",
    "    palavra=lista2[i]\n",
    "    if listaU >= len(lista3):\n",
    "        if lista2.count(palavra)>1:\n",
    "            lista3.remove(palavra)\n",
    "print('-'*100)\n",
    "print('A lista com apenas palavras únicas:',lista3)\n",
    "        "
   ]
  }
 ],
 "metadata": {
  "colab": {
   "provenance": []
  },
  "kernelspec": {
   "display_name": "Python 3 (ipykernel)",
   "language": "python",
   "name": "python3"
  },
  "language_info": {
   "codemirror_mode": {
    "name": "ipython",
    "version": 3
   },
   "file_extension": ".py",
   "mimetype": "text/x-python",
   "name": "python",
   "nbconvert_exporter": "python",
   "pygments_lexer": "ipython3",
   "version": "3.11.5"
  }
 },
 "nbformat": 4,
 "nbformat_minor": 5
}
