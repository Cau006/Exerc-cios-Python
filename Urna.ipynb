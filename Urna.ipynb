{
 "cells": [
  {
   "cell_type": "code",
   "execution_count": 61,
   "id": "685094b1-3200-4843-bd6a-a087e50d7822",
   "metadata": {},
   "outputs": [],
   "source": [
    "cand_pres = [\n",
    "    {'nome': 'leonardo Grossi' , 'numero': 13, 'votos':0 , 'partido': 'PT'},\n",
    "    {'nome': 'Cauã Afonseca', 'numero': 22, 'votos':0 , 'partido': 'CA'},\n",
    "    {'nome': 'Dona Silvia', 'numero':88, 'votos':0 , 'partido': 'PNSTB'},\n",
    "    {'nome': 'Gabriel Caetano', 'numero':69, 'votos':0 , 'partido': 'PCR7'},\n",
    "    {'nome': 'Vinicius Greick', 'numero':14, 'votos':0 , 'partido': 'PJC'},\n",
    "    {'nome': 'Eduardo Barbosa','numero':50, 'votos':0 , 'partido': 'PPP'},\n",
    "]\n",
    "    \n",
    "cand_gover = [\n",
    "    {'nome': 'Johnny Braga' , 'numero': 380, 'votos':0 , 'partido': 'PFL'},\n",
    "    {'nome': 'Lucas Frenzel' , 'numero': 111, 'votos':0 , 'partido': 'PAB'},\n",
    "    {'nome': 'Dona Marcela' , 'numero': 243, 'votos':0 , 'partido': 'PM'},\n",
    "    {'nome': 'Edson Lemes' , 'numero': 123, 'votos':0 , 'partido': 'PU'},\n",
    "    {'nome': 'Gabriel Eduardo' , 'numero': 999, 'votos':0 , 'partido': 'PB'},\n",
    "    {'nome': 'Sir Oderley' , 'numero': 777, 'votos':0 , 'partido': 'PLA'}\n",
    "]\n",
    "\n",
    "cand_pref = [\n",
    "    {'nome': 'Maria Fernanda' , 'numero': 1313, 'votos':0 , 'partido': 'PCO'},\n",
    "    {'nome': 'Marianna Gomes' , 'numero': 2222, 'votos':0 , 'partido': 'PPPC'},\n",
    "    {'nome': 'Julia Almeida' , 'numero': 8809, 'votos':0, 'partido': 'PGE'},\n",
    "    {'nome': 'Gabriel Silva' , 'numero': 6560, 'votos':0, 'partido': 'PPMD'},\n",
    "    {'nome': 'Vinicius Matos' , 'numero': 1402, 'votos':0, 'partido': 'PPOAI'},\n",
    "    {'nome': 'Matheo Alves' , 'numero': 9060, 'votos':0, 'partido': 'PPN'},\n",
    "]\n"
   ]
  },
  {
   "cell_type": "code",
   "execution_count": 62,
   "id": "ed763a9c-d9a4-4547-ba0e-224b61b88189",
   "metadata": {},
   "outputs": [],
   "source": [
    "def line():\n",
    "    print('-' * 150)\n",
    "\n",
    "def pular():\n",
    "    print('')\n"
   ]
  },
  {
   "cell_type": "code",
   "execution_count": 93,
   "id": "cd61e232-dbe1-4fb4-b2f8-9cd5e5b88e91",
   "metadata": {},
   "outputs": [],
   "source": [
    "def urna(dicionario , dado):\n",
    "    try:\n",
    "        \n",
    "        idade = int(input('Quantos anos você tem?'))\n",
    "        pular()\n",
    "        if idade >= 15:\n",
    "            print(f'Vote para o novo {dado}')\n",
    "            while True:\n",
    "                \n",
    "                    print('1 - Ver candidatos \\n2 - Votar \\n3 - Verificar quem ganhou \\n4 - Sair')\n",
    "                    pular()\n",
    "                    escolha = int(input('Escolha: '))\n",
    "                    line()\n",
    "                    if escolha == 1:\n",
    "                        for x in dicionario:\n",
    "                            nome = x['nome']\n",
    "                            numero = x['numero']\n",
    "                            partido = x['partido']\n",
    "                            print(f'O candidato {nome} usa o número {numero} e é do partido {partido}')\n",
    "                            line()\n",
    "                    elif escolha == 2:     \n",
    "                        \n",
    "                        vote = int(input('Coloque o número no qual deseja votar '))\n",
    "                        candidato_achado = 0\n",
    "                        \n",
    "                        for x in dicionario:\n",
    "                            if vote == x['numero']:\n",
    "                                y = (x['votos'])+1\n",
    "                                x['votos'] = y\n",
    "                                candidato_achado = 1\n",
    "                                print('*Efeito Sonoro*')\n",
    "                                print('tuli pilulililili')\n",
    "                                \n",
    "                        if candidato_achado == 0:\n",
    "                            print('Candidato não achado')\n",
    "                        line()\n",
    "                        \n",
    "                    elif escolha == 3 :\n",
    "                        votosv = 0\n",
    "                        total = 0 \n",
    "                        for v in dicionario:\n",
    "                            total+= v['votos']\n",
    "                            if v['votos'] > votosv:\n",
    "                                votosv = v['votos']\n",
    "                                vencedor = v['nome']\n",
    "                                partidov = v['partido']\n",
    "                        media = (votosv / total)*100\n",
    "                        print(f'O novo {dado} é {vencedor} com {media :.1f}% dos votos. O partido vencedor é {partidov}')\n",
    "                        pular()\n",
    "                    elif escolha == 4:\n",
    "                        print('Saindo')\n",
    "                        line()\n",
    "                        break           \n",
    "        elif idade <= 15:\n",
    "            print('Infelizmente você não pode votar')\n",
    "            pular()\n",
    "    except:\n",
    "         print('Algo deu errado, reveja se colocou todos dados corretos')"
   ]
  },
  {
   "cell_type": "code",
   "execution_count": 89,
   "id": "fd0afcb7-6d08-4861-9eed-65cb86f14dd1",
   "metadata": {},
   "outputs": [
    {
     "name": "stdin",
     "output_type": "stream",
     "text": [
      "Quantos você tem? 15\n"
     ]
    },
    {
     "name": "stdout",
     "output_type": "stream",
     "text": [
      "\n",
      "Vote para o novo presidente\n",
      "1 - Ver candidatos \n",
      "2 - Votar \n",
      "3 - Verificar quem ganhou \n",
      "4 - Sair\n",
      "\n"
     ]
    },
    {
     "name": "stdin",
     "output_type": "stream",
     "text": [
      "Escolha:  4\n"
     ]
    },
    {
     "name": "stdout",
     "output_type": "stream",
     "text": [
      "------------------------------------------------------------------------------------------------------------------------------------------------------\n",
      "Saindo\n",
      "------------------------------------------------------------------------------------------------------------------------------------------------------\n"
     ]
    },
    {
     "name": "stdin",
     "output_type": "stream",
     "text": [
      "Quantos você tem? 1\n"
     ]
    },
    {
     "name": "stdout",
     "output_type": "stream",
     "text": [
      "\n",
      "Infelizmente você não pode votar\n",
      "\n"
     ]
    },
    {
     "name": "stdin",
     "output_type": "stream",
     "text": [
      "Quantos você tem? 15\n"
     ]
    },
    {
     "name": "stdout",
     "output_type": "stream",
     "text": [
      "\n",
      "Vote para o novo prefeito\n",
      "1 - Ver candidatos \n",
      "2 - Votar \n",
      "3 - Verificar quem ganhou \n",
      "4 - Sair\n",
      "\n"
     ]
    },
    {
     "name": "stdin",
     "output_type": "stream",
     "text": [
      "Escolha:  5\n"
     ]
    },
    {
     "name": "stdout",
     "output_type": "stream",
     "text": [
      "------------------------------------------------------------------------------------------------------------------------------------------------------\n",
      "1 - Ver candidatos \n",
      "2 - Votar \n",
      "3 - Verificar quem ganhou \n",
      "4 - Sair\n",
      "\n"
     ]
    },
    {
     "name": "stdin",
     "output_type": "stream",
     "text": [
      "Escolha:  5\n"
     ]
    },
    {
     "name": "stdout",
     "output_type": "stream",
     "text": [
      "------------------------------------------------------------------------------------------------------------------------------------------------------\n",
      "1 - Ver candidatos \n",
      "2 - Votar \n",
      "3 - Verificar quem ganhou \n",
      "4 - Sair\n",
      "\n"
     ]
    },
    {
     "name": "stdin",
     "output_type": "stream",
     "text": [
      "Escolha:  2\n"
     ]
    },
    {
     "name": "stdout",
     "output_type": "stream",
     "text": [
      "------------------------------------------------------------------------------------------------------------------------------------------------------\n"
     ]
    },
    {
     "name": "stdin",
     "output_type": "stream",
     "text": [
      "Coloque o número no qual deseja votar  453\n"
     ]
    },
    {
     "name": "stdout",
     "output_type": "stream",
     "text": [
      "Candidato não achado\n",
      "------------------------------------------------------------------------------------------------------------------------------------------------------\n",
      "1 - Ver candidatos \n",
      "2 - Votar \n",
      "3 - Verificar quem ganhou \n",
      "4 - Sair\n",
      "\n"
     ]
    },
    {
     "name": "stdin",
     "output_type": "stream",
     "text": [
      "Escolha:  4\n"
     ]
    },
    {
     "name": "stdout",
     "output_type": "stream",
     "text": [
      "------------------------------------------------------------------------------------------------------------------------------------------------------\n",
      "Saindo\n",
      "------------------------------------------------------------------------------------------------------------------------------------------------------\n"
     ]
    }
   ],
   "source": [
    "urna(cand_pres , 'presidente')\n",
    "urna(cand_gover , 'governador')\n",
    "urna(cand_pref , 'prefeito')"
   ]
  },
  {
   "cell_type": "code",
   "execution_count": 27,
   "id": "ea5fdc94-5b92-4f08-b2c1-57b708c966d0",
   "metadata": {},
   "outputs": [],
   "source": []
  }
 ],
 "metadata": {
  "kernelspec": {
   "display_name": "Python 3 (ipykernel)",
   "language": "python",
   "name": "python3"
  },
  "language_info": {
   "codemirror_mode": {
    "name": "ipython",
    "version": 3
   },
   "file_extension": ".py",
   "mimetype": "text/x-python",
   "name": "python",
   "nbconvert_exporter": "python",
   "pygments_lexer": "ipython3",
   "version": "3.11.7"
  }
 },
 "nbformat": 4,
 "nbformat_minor": 5
}
