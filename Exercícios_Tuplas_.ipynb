{
 "cells": [
  {
   "cell_type": "markdown",
   "id": "2fe9bf14",
   "metadata": {
    "id": "2fe9bf14"
   },
   "source": [
    "# Exercios de Tuplas"
   ]
  },
  {
   "cell_type": "markdown",
   "id": "8a3b69e2",
   "metadata": {
    "id": "8a3b69e2"
   },
   "source": [
    "## Vamos explorar a utilidade das tuplas e como elas podem ser aplicadas em várias situações. As tuplas são estruturas de dados imutáveis que permitem armazenar múltiplos elementos de diferentes tipos, tornando-as ideais para representar informações relacionadas de maneira organizada.\n",
    "\n",
    "### Agora, você está prestes a enfrentar um conjunto de desafios práticos que envolvem o uso de tuplas. Cada exercício foi cuidadosamente criado para ajudá-lo a consolidar seus conhecimentos sobre tuplas e aprimorar suas habilidades de resolução de problemas. Através desses exercícios, você explorará cenários do mundo real, como gerenciamento de estoque, processamento de informações, análise de dados e até mesmo a criação de pequenos jogos.\n",
    "\n",
    "### À medida que você avança pelos exercícios, lembre-se de aplicar conceitos importantes, como criação de tuplas, indexação, slicing, iteração e cálculos simples. Use sua criatividade e habilidades para encontrar soluções eficientes e elegantes para cada problema proposto. À medida que você se familiariza mais com as tuplas, você também estará desenvolvendo um entendimento mais profundo das estruturas de dados em geral, o que será valioso em suas futuras explorações na programação."
   ]
  },
  {
   "cell_type": "markdown",
   "id": "160b05d8",
   "metadata": {
    "id": "160b05d8"
   },
   "source": [
    "# Exercício 1: Contagem de Vogais\n",
    "### Crie uma função que recebe uma string e retorna uma tupla contendo a contagem de vogais e consoantes na string."
   ]
  },
  {
   "cell_type": "code",
   "execution_count": 4,
   "id": "2a02751e",
   "metadata": {
    "id": "2a02751e"
   },
   "outputs": [
    {
     "name": "stdin",
     "output_type": "stream",
     "text": [
      "Coloque uma palavra! da\n"
     ]
    },
    {
     "name": "stdout",
     "output_type": "stream",
     "text": [
      "Contagem de vogais e consoantes: (1, 1)\n"
     ]
    }
   ],
   "source": [
    "vogais = 'aeiou'\n",
    "consoantes = 'bcdfghjklmnpqrstvxywz'\n",
    "\n",
    "while True:\n",
    "    texto = input('Coloque uma palavra!')\n",
    "    if texto.isalpha():\n",
    "        break\n",
    "    else:\n",
    "        print('Coloque somente letras!')\n",
    "\n",
    "contagem_vogais = 0\n",
    "contagem_consoantes = 0\n",
    "\n",
    "for letra in texto:\n",
    "    if letra.lower() in vogais:\n",
    "        contagem_vogais += 1\n",
    "    elif letra.isalpha():\n",
    "        contagem_consoantes += 1\n",
    "\n",
    "contagens = (contagem_vogais, contagem_consoantes)\n",
    "print(f'Contagem de vogais e consoantes: {contagens}')"
   ]
  },
  {
   "cell_type": "markdown",
   "id": "0e0d3c63",
   "metadata": {
    "id": "0e0d3c63"
   },
   "source": [
    "# Exercício 2: Controle de Estoque\n",
    "### Você está gerenciando o estoque de uma loja. Crie um programa que permita adicionar novos produtos (usando tuplas para nome e preço) ao estoque e exibir o valor total do estoque."
   ]
  },
  {
   "cell_type": "code",
   "execution_count": 4,
   "id": "b8babf7e",
   "metadata": {
    "id": "b8babf7e"
   },
   "outputs": [
    {
     "name": "stdin",
     "output_type": "stream",
     "text": [
      "Qual é o produto?  arroz\n",
      "Qual a quantidade de produtos?  10\n",
      "Qual o preço do produto?  2\n"
     ]
    },
    {
     "name": "stdout",
     "output_type": "stream",
     "text": [
      "\n",
      " O produto arroz foi colocado com 10 unidades, custando R$2.00\n",
      "------------------------------------------------------------------------------------------------------------------------\n"
     ]
    },
    {
     "name": "stdin",
     "output_type": "stream",
     "text": [
      "Você deseja colocar mais algum produto?  NÃO\n"
     ]
    },
    {
     "name": "stdout",
     "output_type": "stream",
     "text": [
      "Valor total do estoque é R$20.00 com o total de 10 produtos\n"
     ]
    }
   ],
   "source": [
    "lista=[\n",
    "\n",
    "]\n",
    "estoque=0\n",
    "quantidade_total=0\n",
    "while True:\n",
    "    produto=input('Qual é o produto? ')\n",
    "    quantidade=int(input('Qual a quantidade de produtos? '))\n",
    "    preco=float(input('Qual o preço do produto? '))\n",
    "    print('\\n O produto {} foi colocado com {} unidades, custando R${:.2f}'.format(produto,quantidade,preco))\n",
    "    print('---'*40)\n",
    "    final=(produto,quantidade,preco)\n",
    "    lista.append(final)\n",
    "    escolha=input('Você deseja colocar mais algum produto? ')\n",
    "    if escolha.lower() == 'não' or escolha.lower() == 'nao':\n",
    "        break\n",
    "for item in lista:\n",
    "    produto,quantidade,preco=item\n",
    "    estoque+= quantidade*preco\n",
    "    quantidade_total+=quantidade\n",
    "print('Valor total do estoque é R${:.2f} com o total de {} produtos'.format(estoque,quantidade_total))"
   ]
  },
  {
   "cell_type": "markdown",
   "id": "48e600bc",
   "metadata": {
    "id": "48e600bc"
   },
   "source": [
    "# Exercício 3: Análise de Texto\n",
    "### Crie uma função que recebe um texto e retorna uma tupla contendo a quantidade de palavras e a quantidade média de letras por palavra."
   ]
  },
  {
   "cell_type": "code",
   "execution_count": 5,
   "id": "fbfa078b",
   "metadata": {
    "id": "fbfa078b"
   },
   "outputs": [
    {
     "name": "stdin",
     "output_type": "stream",
     "text": [
      "Coloque uma palavra: aba\n"
     ]
    },
    {
     "name": "stdout",
     "output_type": "stream",
     "text": [
      "A quantidade de palavras é: 1 e a media das palavras é: 2.0\n"
     ]
    }
   ],
   "source": [
    "palavras = texto.split()\n",
    "texto = input('Coloque uma palavra:')\n",
    "\n",
    "quantidade_palavras = len(palavras)\n",
    "quantidade_letras = sum(len(palavra) for palavra in palavras)\n",
    "\n",
    "media = quantidade_letras / quantidade_palavras\n",
    "\n",
    "print(f'A quantidade de palavras é: {quantidade_palavras} e a media das palavras é: {media}')"
   ]
  },
  {
   "cell_type": "markdown",
   "id": "680c1490",
   "metadata": {
    "id": "680c1490"
   },
   "source": [
    "# Exercício 4: Divisão de Despesas\n",
    "### Você e seus amigos foram a um restaurante e agora precisam dividir a conta. Crie um programa que recebe o valor total da conta e o número de pessoas. Em seguida, calcule quanto cada pessoa deve pagar, considerando um serviço de 10% e usando uma tupla para armazenar os valores."
   ]
  },
  {
   "cell_type": "code",
   "execution_count": 3,
   "id": "a3a041b4",
   "metadata": {
    "id": "a3a041b4"
   },
   "outputs": [
    {
     "name": "stdin",
     "output_type": "stream",
     "text": [
      "Qual o valor total da conta do restaurante?  200\n",
      "Quatas pessoas tem para pagar a conta?  3\n"
     ]
    },
    {
     "name": "stdout",
     "output_type": "stream",
     "text": [
      "(cada pessoa deve pagar: 66.66666666666667)\n"
     ]
    }
   ],
   "source": [
    "li = []\n",
    "\n",
    "valor_total_conta = float(input('Qual o valor total da conta do restaurante? '))\n",
    "\n",
    "qutd_de_amigos = float(input('Quatas pessoas tem para pagar a conta? '))\n",
    "\n",
    "qtde_que_cada = valor_total_conta/qutd_de_amigos\n",
    "\n",
    "print(f'(cada pessoa deve pagar: {qtde_que_cada})')"
   ]
  },
  {
   "cell_type": "markdown",
   "id": "fcfb196b",
   "metadata": {
    "id": "fcfb196b"
   },
   "source": [
    "# Exercício 5: Contagem de Ocorrências\n",
    "### Crie uma função que recebe uma lista de elementos e retorna uma tupla contendo a quantidade de ocorrências de um valor específico e a quantidade total de elementos na lista."
   ]
  },
  {
   "cell_type": "code",
   "execution_count": 2,
   "id": "af7ebb49",
   "metadata": {
    "id": "af7ebb49"
   },
   "outputs": [
    {
     "name": "stdin",
     "output_type": "stream",
     "text": [
      "Digite algo que deseja adicionar na lista:  arroz\n",
      "Deseja continuar adicionando? (sim/não)  \n",
      "Digite algo que deseja adicionar na lista:  feijão\n",
      "Deseja continuar adicionando? (sim/não)  não\n"
     ]
    },
    {
     "name": "stdout",
     "output_type": "stream",
     "text": [
      "Lista resultante: ['arroz', 'feijão']\n",
      "Tupla resultante: ('arroz', 'feijão')\n"
     ]
    }
   ],
   "source": [
    "lista = []\n",
    "\n",
    "while True:\n",
    "    entrada = input('Digite algo que deseja adicionar na lista: ')\n",
    "    print(146*'-')\n",
    "    lista.append(entrada)\n",
    "    parar = input('Deseja continuar adicionando? (sim/não) ')\n",
    "    print(146*'-')\n",
    "\n",
    "    if parar.lower() == 'não':\n",
    "        break\n",
    "    elif parar.lower() != 'sim':\n",
    "        print('Resposta inválida. Por favor, digite \"sim\" ou \"não\".')\n",
    "        print(146*'-')\n",
    "\n",
    "tupla_resultante = tuple(lista)\n",
    "print(\"Lista resultante:\", lista)\n",
    "print('')\n",
    "print(\"Tupla resultante:\", tupla_resultante)"
   ]
  },
  {
   "cell_type": "markdown",
   "id": "b39bd949",
   "metadata": {
    "id": "b39bd949"
   },
   "source": [
    "# Exercício 6: Ranking de Notas\n",
    "### Você está organizando um torneio de videogame. Crie um programa que recebe o nome e a pontuação de cada jogador e os armazena em uma lista de tuplas. Em seguida, exiba o ranking dos jogadores com base em suas pontuações."
   ]
  },
  {
   "cell_type": "code",
   "execution_count": null,
   "id": "79465048",
   "metadata": {
    "id": "79465048"
   },
   "outputs": [],
   "source": [
    "nm = ''\n",
    "pnt = ''\n",
    "parar = ''\n",
    "\n",
    "plcr = [('cauã', 70), ('Acs', 55), ('Barbosa', 99)]\n",
    "\n",
    "plcr_final = sorted(plcr, key=lambda jogador: jogador[1], reverse=True )\n",
    "\n",
    "while True:\n",
    "    nm = input('digite o nome do participante: ')\n",
    "    pnt = int(input('insira a pontuação desse jogoodr: '))\n",
    "\n",
    "    parar = input('quer continuar adicionando jogadores: ')\n",
    "    plcr.append((nm, pnt),)\n",
    "    if parar == 'não':\n",
    "            print('finalizando tabela de jogadores' )\n",
    "            print(\"\")\n",
    "            break\n",
    "\n",
    "plcr_final = sorted(plcr, key=lambda jogador: jogador[1], reverse=True )\n",
    "for posicao, (nome,pontos)  in enumerate(plcr_final, start=1):\n",
    "\n",
    "    print( f'Em {posicao}° lugar {nome} com {pontos} pontos!')"
   ]
  },
  {
   "cell_type": "markdown",
   "id": "9e521469",
   "metadata": {
    "id": "9e521469"
   },
   "source": [
    "# Exercício 7: Processamento de Dados Meteorológicos\n",
    "### Você possui uma lista de tuplas contendo a temperatura máxima e mínima de cada dia. Crie uma função que calcule a temperatura média de toda a semana e quantos dias a temperatura máxima excedeu 30 graus."
   ]
  },
  {
   "cell_type": "code",
   "execution_count": null,
   "id": "d8510b8e",
   "metadata": {
    "id": "d8510b8e"
   },
   "outputs": [],
   "source": [
    "semana = [(12, 33), (15, 35), (16, 17), (18, 45), (17, 34), (30, 31)]\n",
    "\n",
    "temp_media = sum(temperatura[0] for temperatura in semana) / len(semana)\n",
    "\n",
    "dias_max_semana = sum(1 for temperatura in semana if temperatura[1] > 30 )\n",
    "dias_min_semana = sum(1 for temperatura in semana if temperatura[0] <= 30)\n",
    "\n",
    "print(f'A media das temperatura é: {temp_media}')\n",
    "print(146*'-')\n",
    "print(f'A temperatura maxima é: {dias_max_semana}')\n",
    "print(146*'-')\n",
    "print(f'A temperatura minima é: {dias_min_semana}')"
   ]
  },
  {
   "cell_type": "markdown",
   "id": "11fd016a",
   "metadata": {
    "id": "11fd016a"
   },
   "source": [
    "# Exercício 8: Divisão Justa\n",
    "### Você e seus amigos decidiram alugar uma casa de férias. Crie um programa que recebe o valor total do aluguel, as despesas comuns e o número de pessoas. Distribua os custos de forma justa, arredondando para cima, e retorne uma tupla com os valores que cada pessoa deve pagar."
   ]
  },
  {
   "cell_type": "code",
   "execution_count": null,
   "id": "395b6cea",
   "metadata": {
    "id": "395b6cea"
   },
   "outputs": [],
   "source": [
    "hotel = ('hotel A', 1200.25, 300.99, 6)\n",
    "local, preco_dia, dispesas, num_pessoas = hotel\n",
    "\n",
    "import math\n",
    "\n",
    "x = preco_dia + dispesas\n",
    "y = x / num_pessoas\n",
    "\n",
    "resultado = math.ceil(y)\n",
    "\n",
    "print(resultado)"
   ]
  },
  {
   "cell_type": "markdown",
   "id": "fc9530d0",
   "metadata": {
    "id": "fc9530d0"
   },
   "source": [
    "# Exercício 9: Extração de Informações de Texto\n",
    "### Dado um texto com várias informações em formato \"chave: valor\", crie uma função que extrai essas informações e as armazena em uma tupla de dicionários."
   ]
  },
  {
   "cell_type": "code",
   "execution_count": 21,
   "id": "2cd026b9",
   "metadata": {
    "id": "2cd026b9"
   },
   "outputs": [
    {
     "name": "stdout",
     "output_type": "stream",
     "text": [
      "Criador: Robert\n",
      "Editora: Rocco\n",
      "Publicado: 10/20/2043\n",
      "Livro: As leis da natureza\n"
     ]
    }
   ],
   "source": [
    "texto = {\n",
    "         'Criador':'Robert' , \n",
    "         'Editora':'Rocco', \n",
    "         'Publicado':'10/20/2043',\n",
    "         'Livro':'As leis da natureza'\n",
    "        }\n",
    "\n",
    "\n",
    "for dado,informação in texto.items():\n",
    "    print(f'{dado}: {informação}')\n",
    "    \n"
   ]
  },
  {
   "cell_type": "markdown",
   "id": "9a4a61b2",
   "metadata": {
    "id": "9a4a61b2"
   },
   "source": [
    "# Exercício 10: Jogo de Cartas\n",
    "### Crie um jogo de cartas em que dois jogadores jogam alternadamente. Cada jogador recebe uma mão de cartas (uma tupla de strings). Implemente a lógica de jogo, como verificar vitória, derrota ou empate, e exiba o resultado após cada rodada.\n",
    "\n",
    "### Esses exercícios de nível médio a difícil envolvem conceitos mais avançados de manipulação de tuplas e resolução de problemas. Eles podem ajudar a aprofundar sua compreensão das tuplas e como elas podem ser aplicadas em situações mais complexas."
   ]
  },
  {
   "cell_type": "code",
   "execution_count": 213,
   "id": "ede7894e",
   "metadata": {
    "id": "ede7894e"
   },
   "outputs": [
    {
     "name": "stdout",
     "output_type": "stream",
     "text": [
      "O jogador 1 recebeu as cartas 4♠️ e 2♣️ \n",
      "\n",
      "O jogador 2 recebeu as cartas 7♠️ e 5♣️ \n",
      "\n",
      "O vencendor é o jogador número 2\n"
     ]
    }
   ],
   "source": [
    "import random\n",
    "\n",
    "jogador1 = random.randint(1,52)\n",
    "jogador11 = random.randint(1,52) \n",
    "jogador2 = random.randint(1,52)\n",
    "jogador22 = random.randint(1,52)\n",
    "i=0\n",
    "\n",
    "while True:\n",
    "    i+=1\n",
    "    if jogador11 == jogador1:\n",
    "        jogador11 = random.randint(1,52)      \n",
    "    elif jogador2 == jogador1 or jogador2 == jogador11:\n",
    "        jogador2 = random.randint(1,52) \n",
    "    elif jogador22 == jogador1 or jogador22 == jogador11 or jogador22 ==jogador2:\n",
    "        jogador22  =  random.randint(1,52) \n",
    "    elif i == 649740:\n",
    "        break\n",
    "\n",
    "cartasjj1=[]\n",
    "cartasjj2=[]\n",
    "\n",
    "cards = [\n",
    "    ('2♦️',2,1),\n",
    "    ('3♦️',3,2),\n",
    "    ('4♦️',4,3),\n",
    "    ('5♦️',5,4),\n",
    "    ('6♦️',6,5),\n",
    "    ('7♦️',7,6),\n",
    "    ('8♦️',8,7),\n",
    "    ('9♦️',9,8),\n",
    "    ('10♦️',10,9),\n",
    "    ('J♦️',11,10),\n",
    "    ('Q♦️',12,11),\n",
    "    ('R♦️',13,12),\n",
    "    ('A♦️', 14,13),\n",
    "    ('2♠️',2,14),\n",
    "    ('3♠️',3,15),\n",
    "    ('4♠️',4,16),\n",
    "    ('5♠️',5,17),\n",
    "    ('6♠️',6,18),\n",
    "    ('7♠️',7,19),\n",
    "    ('8♠️',8,20),\n",
    "    ('9♠️',9,21),\n",
    "    ('10♠️',10,22),\n",
    "    ('J♠️',11,23),\n",
    "    ('Q♠️',12,24),\n",
    "    ('K♠️',13,25),\n",
    "    ('A♠️',14,26),\n",
    "    ('2♥️',2,27),\n",
    "    ('3♥️',3,28),\n",
    "    ('4♥️',4,29),\n",
    "    ('5♥️',5,30),\n",
    "    ('6♥️',6,31),\n",
    "    ('7♥️',7,32),\n",
    "    ('8♥️',8,33),\n",
    "    ('9♥️',9,34),\n",
    "    ('10♥️',10,35),\n",
    "    ('J♥️',11,36),\n",
    "    ('Q♥️',12,37),\n",
    "    ('K♥️',13,38),\n",
    "    ('A♥️',14,39),\n",
    "    ('2♣️',2,40),\n",
    "    ('3♣️',3,41),\n",
    "    ('4♣️',4,42),\n",
    "    ('5♣️',5,43),\n",
    "    ('6♣️',6,44),\n",
    "    ('7♣️',7,45),\n",
    "    ('8♣️',8,46),\n",
    "    ('9♣️',9,47),\n",
    "    ('10♣️',10,48),\n",
    "    ('J♣️',11,49),\n",
    "    ('Q♣️',12,50),\n",
    "    ('K♣️',13,51),\n",
    "    ('A♣️',14,52)\n",
    " ]\n",
    "\n",
    "for x in cards:\n",
    "   \n",
    "    carta, valor, posicao = x\n",
    "\n",
    "    if posicao == jogador1:\n",
    "       \n",
    "        cartaj1=valor\n",
    "        cartasjj1.append(carta)\n",
    "        jogador1=0\n",
    "       \n",
    "    elif posicao == jogador2:\n",
    "       \n",
    "        cartaj2=valor\n",
    "        cartasjj2.append(carta)\n",
    "        jogador2=0\n",
    "       \n",
    "    elif posicao == jogador11:\n",
    "       \n",
    "        cartaj11=valor\n",
    "        cartasjj1.append(carta)\n",
    "        jogador11=0\n",
    "         \n",
    "    elif posicao == jogador22:\n",
    "       \n",
    "        cartaj22 =valor\n",
    "        cartasjj2.append(carta)\n",
    "        jogador22=0\n",
    "   \n",
    "valor_totalj1=cartaj1+cartaj11\n",
    "valor_totalj2=cartaj2+cartaj22\n",
    "\n",
    "print('O jogador 1 recebeu as cartas {} e {} \\n'.format(cartasjj1[0],cartasjj1[1]))\n",
    "print('O jogador 2 recebeu as cartas {} e {} \\n'.format(cartasjj2[0],cartasjj2[1]))\n",
    "if valor_totalj1 > valor_totalj2:\n",
    "    print('O vencendor é o jogador número 1')\n",
    "   \n",
    "if valor_totalj1 < valor_totalj2:\n",
    "    print('O vencendor é o jogador número 2')\n",
    "   \n",
    "if valor_totalj1 == valor_totalj2:\n",
    "    print('Empate')"
   ]
  },
  {
   "cell_type": "code",
   "execution_count": null,
   "id": "8817988b-b452-4463-beb9-e88621492e0f",
   "metadata": {},
   "outputs": [],
   "source": []
  }
 ],
 "metadata": {
  "colab": {
   "provenance": []
  },
  "kernelspec": {
   "display_name": "Python 3 (ipykernel)",
   "language": "python",
   "name": "python3"
  },
  "language_info": {
   "codemirror_mode": {
    "name": "ipython",
    "version": 3
   },
   "file_extension": ".py",
   "mimetype": "text/x-python",
   "name": "python",
   "nbconvert_exporter": "python",
   "pygments_lexer": "ipython3",
   "version": "3.11.7"
  }
 },
 "nbformat": 4,
 "nbformat_minor": 5
}
