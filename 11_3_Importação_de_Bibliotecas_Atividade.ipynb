{
 "cells": [
  {
   "cell_type": "markdown",
   "metadata": {
    "id": "7cSjkBggT5jc"
   },
   "source": [
    "# **Exercício 1:**\n",
    "\n",
    "---\n",
    "\n",
    "Faça um programa que calcule a raiz quadrada de um número inteiro fornecido pelo usuário. Utilize a biblioteca math para realizar o cálculo."
   ]
  },
  {
   "cell_type": "code",
   "execution_count": 1,
   "metadata": {
    "id": "Z_bnJxYGT0_o"
   },
   "outputs": [
    {
     "name": "stdout",
     "output_type": "stream",
     "text": [
      "5\n"
     ]
    }
   ],
   "source": [
    "import math as ma\n",
    "raiz = int(input('Coloque o número'))\n",
    "rz2 = ma.isqrt(raiz)\n",
    "print(rz2)\n"
   ]
  },
  {
   "cell_type": "markdown",
   "metadata": {
    "id": "Sa1-LWktUG_z"
   },
   "source": [
    "# **Exercício 2:**\n",
    "\n",
    "---\n",
    "\n",
    "Crie um programa que gere um número aleatório entre 1 e 100 e peça ao usuário para adivinhar qual é esse número. Utilize a biblioteca random para gerar o número aleatório."
   ]
  },
  {
   "cell_type": "code",
   "execution_count": 5,
   "metadata": {
    "id": "9iOJpg0_ULDC"
   },
   "outputs": [
    {
     "name": "stdout",
     "output_type": "stream",
     "text": [
      "87 17\n"
     ]
    },
    {
     "name": "stdout",
     "output_type": "stream",
     "text": [
      "Tente adivinhar o número 87\n"
     ]
    },
    {
     "name": "stdout",
     "output_type": "stream",
     "text": [
      "Parabéns você acertou o número era 17\n"
     ]
    }
   ],
   "source": [
    "import numpy as np\n",
    "import random\n",
    "x = random.randint(1 , 100)\n",
    "aleatorio= np.random.randint(1 ,100)\n",
    "print(x , aleatorio)\n",
    "while True:\n",
    "    escolha = float(input('Tente adivinhar o número'))\n",
    "    if escolha == aleatorio or escolha == x :\n",
    "        print(f'Parabéns você acertou o número era {aleatorio}')\n",
    "        break\n",
    "    elif escolha > aleatorio:\n",
    "        print('O número é menor')\n",
    "    elif escolha < aleatorio:\n",
    "        print('O número é maior')"
   ]
  },
  {
   "cell_type": "markdown",
   "metadata": {
    "id": "vrAwGLX3UXLq"
   },
   "source": [
    "# **Exercício 3:**\n",
    "\n",
    "---\n",
    "Crie um programa que simule um lançamento de dados. O programa deve gerar um número aleatório entre 1 e 6, representando o valor do dado. Utilizar função randint da biblioteca random"
   ]
  },
  {
   "cell_type": "code",
   "execution_count": 82,
   "metadata": {
    "id": "h2MVf6arUdtz"
   },
   "outputs": [
    {
     "name": "stdout",
     "output_type": "stream",
     "text": [
      "Você tirou 6 no dado\n"
     ]
    }
   ],
   "source": [
    "import random\n",
    "dado6 = random.randint(1 , 6)\n",
    "print(f'Você tirou {dado6} no dado')"
   ]
  },
  {
   "cell_type": "code",
   "execution_count": 100,
   "metadata": {
    "id": "BuMw8P8Ia6GR"
   },
   "outputs": [
    {
     "name": "stdout",
     "output_type": "stream",
     "text": [
      "Você tirou 5 no dado\n"
     ]
    }
   ],
   "source": [
    "import numpy as np\n",
    "dado6 = np.random.randint(1,6)\n",
    "print(f'Você tirou {dado6} no dado')"
   ]
  },
  {
   "cell_type": "markdown",
   "metadata": {
    "id": "RA7LpHIHUgcT"
   },
   "source": [
    "# **Exercício 4:**\n",
    "\n",
    "---\n",
    "Faça um programa que calcule a área de um círculo. O usuário deve fornecer o raio do círculo como entrada. Utilize a biblioteca math para obter o valor de π (pi)."
   ]
  },
  {
   "cell_type": "code",
   "execution_count": 133,
   "metadata": {
    "colab": {
     "base_uri": "https://localhost:8080/"
    },
    "id": "P5X-NK9gUmJT",
    "outputId": "f9a9a301-c690-444f-feb2-7aa5a3695429"
   },
   "outputs": [
    {
     "name": "stdout",
     "output_type": "stream",
     "text": [
      "Qual o raio do círculo?  .55\n"
     ]
    },
    {
     "name": "stdout",
     "output_type": "stream",
     "text": [
      "A área do círculo é aproximadamente 0.95\n"
     ]
    }
   ],
   "source": [
    "import math\n",
    "raio = float(input('Qual o raio do círculo? '))\n",
    "pi = math.pi\n",
    "area = pi*(raio**2)\n",
    "print(f'A área do círculo é aproximadamente {area :.2f}')"
   ]
  },
  {
   "cell_type": "markdown",
   "metadata": {
    "id": "8hhvsHCOUn9T"
   },
   "source": [
    "# **Exercício 5:**\n",
    "\n",
    "---\n",
    "Crie um programa que solicite ao usuário um nome de arquivo e, em seguida, leia o conteúdo desse arquivo e conte quantas palavras diferentes existem no texto. Utilize Counter da biblioteca collections para ajudar na contagem.\n",
    "\n",
    "python\n",
    "C"
   ]
  },
  {
   "cell_type": "code",
   "execution_count": 2,
   "metadata": {
    "id": "01QBl5HWU2xj"
   },
   "outputs": [
    {
     "name": "stdout",
     "output_type": "stream",
     "text": [
      "O número de palavras diferentes no arquivo 'counter.py' é: 49\n"
     ]
    }
   ],
   "source": [
    "from collections import Counter\n",
    "\n",
    "def contar_palavras_diferentes(nome_arquivo):\n",
    "    try:\n",
    "        with open(nome_arquivo, 'r') as arquivo:\n",
    "            \n",
    "            conteudo = arquivo.read()\n",
    "            \n",
    "            palavras = conteudo.lower().split()\n",
    "            \n",
    "            frequencia_palavras = Counter(palavras)\n",
    "            \n",
    "            return len(frequencia_palavras)\n",
    "    except FileNotFoundError:\n",
    "        print(\"Arquivo não encontrado.\")\n",
    "        return None\n",
    "\n",
    "def main():\n",
    "    nome_arquivo = input(\"Digite o nome do arquivo: \")\n",
    "    num_palavras_diferentes = contar_palavras_diferentes(nome_arquivo)\n",
    "    if num_palavras_diferentes is not None:\n",
    "        print(f\"O número de palavras diferentes no arquivo '{nome_arquivo}' é: {num_palavras_diferentes}\")\n",
    "\n",
    "if __name__ == \"__main__\":\n",
    "    main()\n",
    "\n"
   ]
  },
  {
   "cell_type": "markdown",
   "metadata": {
    "id": "-xrV_RJ9U_g7"
   },
   "source": [
    "# **Exercício 6:**\n",
    "\n",
    "---\n",
    "Crie um programa que solicite ao usuário uma lista de números separados por vírgula e exiba a média desses números. Utilize a função mean da biblioteca statistics."
   ]
  },
  {
   "cell_type": "code",
   "execution_count": 19,
   "metadata": {
    "id": "0gGOdi8mVFAL"
   },
   "outputs": [
    {
     "name": "stdout",
     "output_type": "stream",
     "text": [
      "Digite uma lista de números separados por vírgula:  30 ,32\n"
     ]
    },
    {
     "name": "stdout",
     "output_type": "stream",
     "text": [
      "A média dos números é: 31.0\n"
     ]
    }
   ],
   "source": [
    "import statistics\n",
    "\n",
    "def calcular_media(lista_numeros):\n",
    "    try:\n",
    "        numeros = [float(numero) for numero in lista_numeros.split(',')]\n",
    "    \n",
    "        media = statistics.mean(numeros)\n",
    "        \n",
    "        return media\n",
    "    except ValueError:\n",
    "        return \"Erro: Certifique-se de fornecer números separados por vírgula.\"\n",
    "\n",
    "def main():\n",
    "    entrada = input(\"Digite uma lista de números separados por vírgula: \")\n",
    "    media = calcular_media(entrada)\n",
    "    print(\"A média dos números é:\", media)\n",
    "    \n",
    "main()"
   ]
  },
  {
   "cell_type": "markdown",
   "metadata": {
    "id": "CO26JglHXDPs"
   },
   "source": [
    "# **Exercício 7:**\n",
    "\n",
    "---\n",
    "Crie um programa usando a biblioteca tkinter que exiba uma janela com um botão. Quando o botão for clicado, exiba uma mensagem de saudação usando a função messagebox.showinfo().\n"
   ]
  },
  {
   "cell_type": "code",
   "execution_count": 105,
   "metadata": {
    "id": "UQTtWO8SVf7S"
   },
   "outputs": [],
   "source": [
    "import tkinter as tk\n",
    "from tkinter import messagebox\n",
    "sla = tk.Tk()\n",
    "sla.geometry('300x400')\n",
    "sla.resizable(width=False, height=False)\n",
    "\n",
    "main_frame = tk.Frame(sla, bg='PINK')\n",
    "main_frame.pack(fill=tk.BOTH, expand=True)\n",
    "main_frame.columnconfigure(0 , weight = 1)\n",
    "main_frame.rowconfigure(0,weight=1)\n",
    "\n",
    "def abrir():\n",
    "    tk.messagebox.showinfo('Mensagem','PARABÉNS VOCÊ SABE CLICAR EM UM BOTÃO')\n",
    "\n",
    "def funcao():\n",
    "    return abrir\n",
    "\n",
    "button1 = tk.Button(\n",
    "    main_frame,\n",
    "    text='CLIQUE' ,\n",
    "    background='YELLOW',\n",
    "    command= funcao(),\n",
    "    font='Arial 20',\n",
    "    fg='BLUE'\n",
    "    \n",
    "                    )\n",
    "button1.grid(column = 0,row = 0, )\n",
    "sla.mainloop()"
   ]
  },
  {
   "cell_type": "markdown",
   "metadata": {
    "id": "0raBCu6fXafW"
   },
   "source": [
    "# **Exercício 8:**\n",
    "\n",
    "---\n",
    "Crie um programa usando a biblioteca tkinter que exiba uma janela com um rótulo de texto e um campo de entrada. Quando o botão for clicado, obtenha o texto do campo de entrada usando a função .get() e exiba uma mensagem de boas-vindas personalizada usando a função messagebox.showinfo().\n"
   ]
  },
  {
   "cell_type": "code",
   "execution_count": 115,
   "metadata": {
    "id": "UgiISJlkXexi"
   },
   "outputs": [],
   "source": [
    "import tkinter as tk\n",
    "from tkinter import messagebox\n",
    "\n",
    "sla = tk.Tk()\n",
    "sla.geometry('300x400')\n",
    "\n",
    "\n",
    "main_frame = tk.Frame(sla, bg='PINK')\n",
    "main_frame.pack(fill=tk.BOTH, expand=True)\n",
    "main_frame.columnconfigure(0 , weight = 0)\n",
    "main_frame.rowconfigure(0,weight=1)\n",
    "main_frame.rowconfigure(1,weight=1)\n",
    "\n",
    "\n",
    "def mensagem():\n",
    "    global colocar\n",
    "    text = colocar.get()\n",
    "    tk.messagebox.showinfo(\"Mensagem\",text)\n",
    "def funcao():\n",
    "    return mensagem    \n",
    "\n",
    "botao = tk.Button(\n",
    "    main_frame,\n",
    "    text='LOGIN' ,\n",
    "    background='white',\n",
    "    command= funcao(),\n",
    "    font='Arial 20',\n",
    "    fg='red'\n",
    "    \n",
    "                    )\n",
    "\n",
    "escrito = tk.Label(\n",
    "    main_frame,\n",
    "    text='Escreva algo: ' ,\n",
    "    background='white',\n",
    "    font='Arial 10',\n",
    "    fg='red'\n",
    "    \n",
    "                    )\n",
    "\n",
    "colocar = tk.Entry(\n",
    "    main_frame\n",
    ")\n",
    "\n",
    "\n",
    "        \n",
    "botao.grid(column = 1,row = 1 )\n",
    "escrito.grid(column = 0,row = 0 )\n",
    "colocar.grid(column= 1 , row = 0)\n",
    "sla.mainloop()"
   ]
  },
  {
   "cell_type": "markdown",
   "metadata": {
    "id": "0NytGTyOXjtD"
   },
   "source": [
    "# **Exercício 9:**\n",
    "\n",
    "---\n",
    "Crie um programa usando a biblioteca tkinter que exiba uma janela com uma caixa de seleção e um botão. Quando o botão for clicado, obtenha a opção selecionada da caixa de seleção usando a variável associada e exiba-a em uma caixa de diálogo usando a função messagebox.showinfo()."
   ]
  },
  {
   "cell_type": "code",
   "execution_count": 133,
   "metadata": {
    "id": "n7LtC33EXpuy"
   },
   "outputs": [],
   "source": [
    "import tkinter as tk\n",
    "from tkinter import messagebox\n",
    "\n",
    "def exibir_selecao():\n",
    "    opcao_selecionada = var_opcao.get()\n",
    "    messagebox.showinfo('Opção Selecionada', f'Opção selecionada: {opcao_selecionada}')\n",
    "\n",
    "sla = tk.Tk()\n",
    "sla.geometry('300x130')\n",
    "sla.title('Atividade')\n",
    "\n",
    "main_frame = tk.Frame(sla, bg='PINK')\n",
    "main_frame.pack(fill=tk.BOTH, expand=True)\n",
    "main_frame.columnconfigure(0 , weight = 0)\n",
    "main_frame.rowconfigure(0,weight=1)\n",
    "main_frame.rowconfigure(1,weight=1)\n",
    "\n",
    "var_opcao = tk.StringVar(\n",
    "    sla\n",
    "                         \n",
    "                         )\n",
    "var_opcao.set(\"Opção 1\") \n",
    "\n",
    "caixa_selecao = tk.OptionMenu(\n",
    "    sla, \n",
    "    var_opcao, \n",
    "    \"Opção 1\", \n",
    "    \"Opção 2\", \n",
    "    \"Opção 3\", \n",
    "    \n",
    "    )\n",
    "caixa_selecao.pack(pady=10)\n",
    "\n",
    "botao = tk.Button(\n",
    "    sla, \n",
    "    text=\"Exibir Seleção\", \n",
    "    command=exibir_selecao,\n",
    "    background='white',\n",
    "    font='Arial 20',\n",
    "    fg='red'\n",
    "    )\n",
    "botao.pack(pady=15)\n",
    "\n",
    "sla.mainloop()"
   ]
  },
  {
   "cell_type": "markdown",
   "metadata": {
    "id": "qoozLEBUZeDa"
   },
   "source": [
    "# **Exercício 10:**\n",
    "\n",
    "---\n",
    "Crie um programa que utilize a biblioteca pandas para ler um arquivo CSV chamado \"dados.csv\". O arquivo contém uma coluna chamada \"idade\". Calcule a média das idades utilizando o método .mean() e exiba o resultado.\n",
    "\n",
    "[Link para a Documentação do Pandas](https://pandas.pydata.org/docs/reference/api/pandas.read_csv.html)\n"
   ]
  },
  {
   "cell_type": "markdown",
   "metadata": {},
   "source": []
  },
  {
   "cell_type": "code",
   "execution_count": 153,
   "metadata": {},
   "outputs": [
    {
     "name": "stdout",
     "output_type": "stream",
     "text": [
      "A média de idades é de 18 anos\n"
     ]
    }
   ],
   "source": [
    "import pandas as pd\n",
    "ana = pd.read_csv('C:/Users/Aluno - 5/Desktop/Cauã/dados.csv')\n",
    "alberto = ana['idade'].mean()\n",
    "print(f'A média de idades é de {alberto:.0f} anos')"
   ]
  },
  {
   "cell_type": "code",
   "execution_count": null,
   "metadata": {
    "id": "56Mo2YGCZjg5"
   },
   "outputs": [],
   "source": []
  },
  {
   "cell_type": "markdown",
   "metadata": {
    "id": "CrGJ4bNpZkl5"
   },
   "source": [
    "# **Exercício 11:**\n",
    "\n",
    "---\n",
    "Crie um programa que utilize as bibliotecas pandas e matplotlib para ler um arquivo CSV chamado \"dados.csv\". O arquivo contém duas colunas: \"nome\" e \"pontuacao\". Exiba um gráfico de barras utilizando o método .bar() do matplotlib.pyplot, passando os nomes como valores no eixo x e as pontuações como valores no eixo y.\n",
    "\n",
    "[Link para a Documentação do Pandas](https://pandas.pydata.org/docs/reference/api/pandas.read_csv.html)\n",
    "\n",
    "[Link para a documentação do matplotlib](https://matplotlib.org/stable/api/_as_gen/matplotlib.pyplot.bar.html)"
   ]
  },
  {
   "cell_type": "code",
   "execution_count": 154,
   "metadata": {
    "id": "fX2Psu7AaNBT"
   },
   "outputs": [
    {
     "data": {
      "image/png": "[encoded data removed]",
      "text/plain": [
       "<Figure size 640x480 with 1 Axes>"
      ]
     },
     "metadata": {},
     "output_type": "display_data"
    }
   ],
   "source": [
    "import pandas as pd\n",
    "import matplotlib.pyplot as plt\n",
    "\n",
    "y = []\n",
    "x = ['J','A','R','A','Af','Hi','F','K','Ac','Ka','Ca','Ba','M','L','SP']\n",
    "caminho_arquivo = 'C:/Users/Aluno - 5/Desktop/Cauã/dados.csv'\n",
    "dados = pd.read_csv(caminho_arquivo)\n",
    "números = dados['idade']\n",
    "for ui in números:\n",
    "    y.append(ui)\n",
    "    \n",
    "plt.bar(x, y)\n",
    "plt.ylabel('Idades')\n",
    "plt.xlabel('Nomes')\n",
    "plt.axis([0,16,0, max(y)+3])\n",
    "plt.show()"
   ]
  },
  {
   "cell_type": "code",
   "execution_count": null,
   "metadata": {},
   "outputs": [],
   "source": []
  },
  {
   "cell_type": "code",
   "execution_count": null,
   "metadata": {},
   "outputs": [],
   "source": []
  }
 ],
 "metadata": {
  "colab": {
   "provenance": []
  },
  "kernelspec": {
   "display_name": "Python 3 (ipykernel)",
   "language": "python",
   "name": "python3"
  },
  "language_info": {
   "codemirror_mode": {
    "name": "ipython",
    "version": 3
   },
   "file_extension": ".py",
   "mimetype": "text/x-python",
   "name": "python",
   "nbconvert_exporter": "python",
   "pygments_lexer": "ipython3",
   "version": "3.12.2"
  }
 },
 "nbformat": 4,
 "nbformat_minor": 4
}
