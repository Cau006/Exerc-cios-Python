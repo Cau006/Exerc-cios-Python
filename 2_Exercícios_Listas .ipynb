{
 "cells": [
  {
   "cell_type": "markdown",
   "metadata": {
    "id": "Z1hD5bNOu3vl"
   },
   "source": [
    "# Exercícios\n",
    "\n",
    "## 1. Faturamento do Melhor e do Pior Mês do Ano\n",
    "\n",
    "Qual foi o valor de vendas do melhor mês do Ano?\n",
    "E valor do pior mês do ano?"
   ]
  },
  {
   "cell_type": "code",
   "execution_count": 44,
   "metadata": {
    "id": "3bMW-13qu3vn"
   },
   "outputs": [
    {
     "name": "stdout",
     "output_type": "stream",
     "text": [
      "O melhor mês foi novembro com 49051 vendas. Enquanto que o pior mês foi dezembro com 9650 vendas\n"
     ]
    }
   ],
   "source": [
    "meses = ['jan', 'fev', 'mar', 'abr', 'mai', 'jun', 'jul', 'ago', 'set', 'out', 'nov', 'dez']\n",
    "vendas1 = [25000, 29000, 22200, 17750, 15870, 19900]\n",
    "vendas2 = [19850, 20120, 17540, 15555, 49051, 9650]\n",
    "vendas_3sem = vendas1 + vendas2\n",
    "print('O melhor mês foi novembro com {} vendas. Enquanto que o pior mês foi dezembro com {} vendas'.format(max(vendas_3sem),min(vendas_3sem) ))"
   ]
  },
  {
   "cell_type": "markdown",
   "metadata": {
    "id": "rGEdI7DMu3vo"
   },
   "source": [
    "## 2. Continuação\n",
    "\n",
    "Agora relacione as duas listas para printar 'O melhor mês do ano foi {} com {} vendas' e o mesmo para o pior mês do ano.\n",
    "\n",
    "Calcule também o faturamento total do Ano e quanto que o melhor mês representou do faturamento total.\n",
    "\n",
    "Obs: Para o faturamento total, pode usar a função sum(lista) que soma todos os itens de uma lista"
   ]
  },
  {
   "cell_type": "code",
   "execution_count": 27,
   "metadata": {
    "id": "Y9flMbmau3vo"
   },
   "outputs": [
    {
     "name": "stdout",
     "output_type": "stream",
     "text": [
      "O melhor mês foi novembro com 49051 vendas. Enquanto que o pior mês foi dezembro com 9650 vendas. \n",
      "E o faturamento total foi R$ 261486.00 e o melhor mês representa 18.76%\n"
     ]
    }
   ],
   "source": [
    "meses = ['jan', 'fev', 'mar', 'abr', 'mai', 'jun', 'jul', 'ago', 'set', 'out', 'nov', 'dez']\n",
    "vendas1 = [25000, 29000, 22200, 17750, 15870, 19900]\n",
    "vendas2 = [19850, 20120, 17540, 15555, 49051, 9650]\n",
    "vendas_3sem = vendas1 + vendas2\n",
    "total=sum(vendas_3sem)\n",
    "repre=(max(vendas_3sem)*100)/total\n",
    "\n",
    "print('O melhor mês foi novembro com {} vendas. Enquanto que o pior mês foi dezembro com {} vendas. \\nE o faturamento total foi R$ {:.2f} e o melhor mês representa {:.2f}%'.format(max(vendas_3sem),min(vendas_3sem),total,repre ))"
   ]
  },
  {
   "cell_type": "markdown",
   "metadata": {
    "id": "KLHV8ez3u3vo"
   },
   "source": [
    "## 3. Crie uma lista com o top 3 valores de vendas do ano (sem fazer \"no olho\")\n",
    "\n",
    "Dica: o método remove retira um item da lista."
   ]
  },
  {
   "cell_type": "code",
   "execution_count": 46,
   "metadata": {
    "id": "WQdJpcYyu3vo"
   },
   "outputs": [
    {
     "name": "stdout",
     "output_type": "stream",
     "text": [
      " \n",
      "TOP 1: 49051\n",
      "TOP 2: 29000\n",
      "TOP 3: 25000\n",
      "     \n"
     ]
    }
   ],
   "source": [
    "vendas_3sem.sort()\n",
    "top3 = [vendas_3sem[11],vendas_3sem[10],vendas_3sem[9]]\n",
    "print(f''' \n",
    "TOP 1: {top3[0]}\n",
    "TOP 2: {top3[1]}\n",
    "TOP 3: {top3[2]}\n",
    "     ''')"
   ]
  },
  {
   "cell_type": "code",
   "execution_count": null,
   "metadata": {},
   "outputs": [],
   "source": []
  }
 ],
 "metadata": {
  "colab": {
   "provenance": []
  },
  "kernelspec": {
   "display_name": "Python 3 (ipykernel)",
   "language": "python",
   "name": "python3"
  },
  "language_info": {
   "codemirror_mode": {
    "name": "ipython",
    "version": 3
   },
   "file_extension": ".py",
   "mimetype": "text/x-python",
   "name": "python",
   "nbconvert_exporter": "python",
   "pygments_lexer": "ipython3",
   "version": "3.11.5"
  }
 },
 "nbformat": 4,
 "nbformat_minor": 1
}
