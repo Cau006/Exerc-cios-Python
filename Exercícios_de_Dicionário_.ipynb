{
 "cells": [
  {
   "cell_type": "markdown",
   "id": "d1096e68",
   "metadata": {
    "id": "d1096e68"
   },
   "source": [
    "# Exercícios de dicionários\n"
   ]
  },
  {
   "cell_type": "markdown",
   "id": "32c8fef7",
   "metadata": {
    "id": "32c8fef7"
   },
   "source": [
    "## Esses exercícios ajudarão você a praticar o uso de dicionários em diferentes contextos e situações. Experimente resolver cada um deles para aprimorar suas habilidades em manipulação de dicionários em Python."
   ]
  },
  {
   "cell_type": "markdown",
   "id": "4a90b37f",
   "metadata": {
    "id": "4a90b37f"
   },
   "source": [
    "# Exercício 1: Contagem de Palavras\n",
    "### Crie uma função que recebe uma string como entrada e retorna um dicionário onde as chaves são as palavras da string e os valores são a contagem de vezes que cada palavra aparece."
   ]
  },
  {
   "cell_type": "code",
   "execution_count": null,
   "id": "ff702f47",
   "metadata": {
    "id": "ff702f47"
   },
   "outputs": [],
   "source": [
    "escolha = input('digite uma frase: ')\n",
    "palavras = escolha.split()\n",
    "contador = {}\n",
    "\n",
    "for palavra in palavras:\n",
    "    if palavra in contador:\n",
    "        contador[palavra] += 1\n",
    "    else:\n",
    "        contador[palavra] = 1\n",
    "\n",
    "print(contador)"
   ]
  },
  {
   "cell_type": "markdown",
   "id": "946d6af0",
   "metadata": {
    "id": "946d6af0"
   },
   "source": [
    "# Exercício 2: Registro de Alunos\n",
    "### Crie um programa que permite registrar informações sobre alunos, como nome, idade e nota. Use um dicionário para armazenar essas informações e permita que o usuário adicione novos alunos e visualize os detalhes dos alunos existentes."
   ]
  },
  {
   "cell_type": "code",
   "execution_count": 4,
   "id": "f9b97ebf-55f1-4cee-96fe-ce40c0bf66eb",
   "metadata": {
    "id": "4bbebc70"
   },
   "outputs": [
    {
     "name": "stdin",
     "output_type": "stream",
     "text": [
      "Qual o nome do aluno?  caua\n"
     ]
    },
    {
     "name": "stdout",
     "output_type": "stream",
     "text": [
      "Ok, caua foi adicionado\n",
      "------------------------------------------------------------------------------------------------------------------------\n"
     ]
    },
    {
     "name": "stdin",
     "output_type": "stream",
     "text": [
      "Qual a idade dele?  10\n"
     ]
    },
    {
     "name": "stdout",
     "output_type": "stream",
     "text": [
      "------------------------------------------------------------------------------------------------------------------------\n"
     ]
    },
    {
     "name": "stdin",
     "output_type": "stream",
     "text": [
      "Qual a nota dele?  10\n"
     ]
    },
    {
     "name": "stdout",
     "output_type": "stream",
     "text": [
      "------------------------------------------------------------------------------------------------------------------------\n"
     ]
    },
    {
     "name": "stdin",
     "output_type": "stream",
     "text": [
      "Você deseja continuar?  \n",
      "Qual o nome do aluno?  aba\n"
     ]
    },
    {
     "name": "stdout",
     "output_type": "stream",
     "text": [
      "Ok, aba foi adicionado\n",
      "------------------------------------------------------------------------------------------------------------------------\n"
     ]
    },
    {
     "name": "stdin",
     "output_type": "stream",
     "text": [
      "Qual a idade dele?  17\n"
     ]
    },
    {
     "name": "stdout",
     "output_type": "stream",
     "text": [
      "------------------------------------------------------------------------------------------------------------------------\n"
     ]
    },
    {
     "name": "stdin",
     "output_type": "stream",
     "text": [
      "Qual a nota dele?  9\n"
     ]
    },
    {
     "name": "stdout",
     "output_type": "stream",
     "text": [
      "------------------------------------------------------------------------------------------------------------------------\n"
     ]
    },
    {
     "name": "stdin",
     "output_type": "stream",
     "text": [
      "Você deseja continuar?  não\n"
     ]
    },
    {
     "name": "stdout",
     "output_type": "stream",
     "text": [
      "------------------------------------------------------------------------------------------------------------------------\n",
      "1 - Escolher aluno \n",
      "2 - Ver média da turma \n",
      "3 - Encerrar programa \n",
      "\n"
     ]
    },
    {
     "name": "stdin",
     "output_type": "stream",
     "text": [
      "Escolha de 1 a 3  1\n",
      "Escolha o aluno:  aba\n"
     ]
    },
    {
     "name": "stdout",
     "output_type": "stream",
     "text": [
      "O aba tem 17 anos e tirou 9.0 \n"
     ]
    },
    {
     "name": "stdin",
     "output_type": "stream",
     "text": [
      "Escolha de 1 a 3  2\n"
     ]
    },
    {
     "name": "stdout",
     "output_type": "stream",
     "text": [
      "A média da sala em todas as notas é 9.5\n"
     ]
    },
    {
     "name": "stdin",
     "output_type": "stream",
     "text": [
      "Escolha de 1 a 3  3\n"
     ]
    },
    {
     "name": "stdout",
     "output_type": "stream",
     "text": [
      "Encerrando programa\n"
     ]
    }
   ],
   "source": [
    "alunos = {}\n",
    "media_total=0\n",
    "qtdalunos = 0\n",
    "while True:\n",
    "    aluno = input('Qual o nome do aluno? ')  \n",
    "    print(f'Ok, {aluno} foi adicionado')\n",
    "    print('---'*40)\n",
    "    idade=int(input('Qual a idade dele? '))\n",
    "\n",
    "    print('---'*40)\n",
    "    nota=float(input('Qual a nota dele? '))\n",
    "    print('---'*40)\n",
    "    \n",
    "    qtdalunos+=1\n",
    "    media_total+=nota\n",
    "    alunos[aluno]={'Idade': idade , 'Nota': nota }\n",
    "    parar = input('Você deseja continuar? ')\n",
    "    \n",
    "    if parar == 'não':\n",
    "        break\n",
    "        \n",
    "print('---'*40)        \n",
    "print('1 - Escolher aluno \\n2 - Ver média da turma \\n3 - Encerrar programa \\n')\n",
    "\n",
    "while True:\n",
    "    escolha = int(input('Escolha de 1 a 3 '))\n",
    "\n",
    "    if escolha == 1:\n",
    "        escolher_aluno = input('Escolha o aluno: ') \n",
    "        escolher_aluno = escolher_aluno.lower()\n",
    "        aluno_escolhido = alunos[escolher_aluno]\n",
    "        idadee = aluno_escolhido['Idade']\n",
    "        notaa = aluno_escolhido['Nota']\n",
    "        print(f'O {escolher_aluno} tem {idadee} anos e tirou {notaa} ')\n",
    "\n",
    "\n",
    "    elif escolha == 2:\n",
    "        \n",
    "        print(f'A média da sala em todas as notas é {(media_total/qtdalunos):.1f}')\n",
    "        \n",
    "    elif escolha == 3:\n",
    "        print('Encerrando programa')\n",
    "    \n",
    "        break"
   ]
  },
  {
   "cell_type": "markdown",
   "id": "0a7de75b",
   "metadata": {
    "id": "0a7de75b"
   },
   "source": [
    "# Exercício 3: Tradutor Simples\n",
    "### Crie um dicionário que mapeie algumas palavras em inglês para suas traduções em outro idioma. Peça ao usuário para digitar uma palavra em inglês e exiba a tradução correspondente."
   ]
  },
  {
   "cell_type": "code",
   "execution_count": null,
   "id": "370a137c",
   "metadata": {
    "id": "370a137c"
   },
   "outputs": [],
   "source": [
    "dicionario = {'nice':'legal', 'yes':'sim', 'no':'não', 'name':'nome', 'code':'codigo'}\n",
    "palavra = input('escreva uma palavra à ser traduzida ')\n",
    "\n",
    "if palavra.lower() in dicionario:\n",
    "    print(f'A tradução desta palavra é: {dicionario.get(palavra)}')"
   ]
  },
  {
   "cell_type": "markdown",
   "id": "d9d590bc",
   "metadata": {
    "id": "d9d590bc"
   },
   "source": [
    "# Exercício 4: Estoque de Produtos\n",
    "### Crie um programa que simule o controle de estoque de uma loja. Use um dicionário onde as chaves são os nomes dos produtos e os valores são as quantidades em estoque. Permita que o usuário adicione ou remova produtos e atualize as quantidades."
   ]
  },
  {
   "cell_type": "code",
   "execution_count": null,
   "id": "f93311d7",
   "metadata": {
    "id": "f93311d7"
   },
   "outputs": [
    {
     "name": "stdout",
     "output_type": "stream",
     "text": [
      "Opções do menu LOJA SENAI TECH\n",
      "     1. - Ver produtos e quantidades no estoque.\n",
      "     2. - Adicionar produtos ao estoque.\n",
      "     3. - Remover produtos do estoque.\n"
     ]
    }
   ],
   "source": [
    "\n",
    "tech = {\n",
    "    'iphone': 5000,\n",
    "    'samsung galaxy': 1200,\n",
    "    'tv samsung': 100,\n",
    "    'ps5': 300,\n",
    "    'tablet': 720,\n",
    "    'iphad': 550,\n",
    "    'notebook': 17000,\n",
    "}\n",
    "\n",
    "print('Opções do menu LOJA SENAI TECH\\n     1. - Ver produtos e quantidades no estoque.\\n     2. - Adicionar produtos ao estoque.\\n     3. - Remover produtos do estoque.')\n",
    "\n",
    "op = int(input('Escolha uma das opções do menu que estão acima: '))\n",
    "\n",
    "while True:\n",
    "    if op == 1:\n",
    "        for produto, estq in tech.items():\n",
    "            print(f'O produto {produto} tem {estq} unidades no estoque. ')\n",
    "    elif op == 2:\n",
    "        while True:\n",
    "            nm = input ('Digite o nome do produto: \\n')\n",
    "            qtd = int(input ('Digite a quantidade para estoque: \\n'))\n",
    "            tech.update({nm: qtd})\n",
    "            stop = input('quer adicionar outro produto? ')\n",
    "            if stop.lower() == 'não':\n",
    "                for produto,estq in tech.items():\n",
    "                    print(f'O produto {produto} tem {estq} unidades no estoque.')\n",
    "    elif op == 3:\n",
    "        while True:\n",
    "            nm2 = input ('Digite o nome do produto a ser retirado: \\n')\n",
    "            if nm2 == produto:\n",
    "                print(f'O produto {produto} foi removido com sucesso!.')\n",
    "            elif qtd2 != produto:\n",
    "                print('.')\n",
    "            elif qtd2 == estq:\n",
    "                item_remov = tech.pop(mn2)\n",
    "                print(f'O produto {produto} foi removido com sucesso!.')\n",
    "            for produto,estq in tech.items():\n",
    "                print(f'O produto {produto2} tem {estq2} unidades no estoque.')\n",
    "    elif op == 4:\n",
    "        print('Você saiu do programa.')\n",
    "        break\n",
    "    else:\n",
    "        print('Dado inválido   -   3RRO0 - 3RR0 - 3RR0    -   Dado inválido.')\n"
   ]
  },
  {
   "cell_type": "markdown",
   "id": "31c34736",
   "metadata": {
    "id": "31c34736"
   },
   "source": [
    "# Exercício 5: Contagem de Caracteres\n",
    "### Crie uma função que recebe uma string e retorna um dicionário onde as chaves são os caracteres da string e os valores são a contagem de vezes que cada caracter aparece."
   ]
  },
  {
   "cell_type": "code",
   "execution_count": 26,
   "id": "70d8c2c6",
   "metadata": {
    "id": "70d8c2c6"
   },
   "outputs": [
    {
     "name": "stdout",
     "output_type": "stream",
     "text": [
      "a\n",
      "a\n",
      "Contagem de letras: \n",
      "a: 3 \n",
      "b: 1 \n",
      "c: 1 \n",
      "t: 1 \n",
      "e: 1 \n"
     ]
    }
   ],
   "source": [
    "palavra = 'abacate'\n",
    "\n",
    "contagem_letras = {}\n",
    "\n",
    "for letra in palavra:\n",
    "    if letra in contagem_letras:\n",
    "        contagem_letras[letra] += 1\n",
    "    else:\n",
    "        contagem_letras[letra] = 1\n",
    "\n",
    "print('Contagem de letras: ')\n",
    "for letra, contagem in contagem_letras.items():\n",
    "    print(f'{letra}: {contagem} ')"
   ]
  },
  {
   "cell_type": "markdown",
   "id": "8b8d8f05",
   "metadata": {
    "id": "8b8d8f05"
   },
   "source": [
    "# Exercício 6: Agenda de Contatos\n",
    "### Crie um programa que simule uma agenda de contatos. Use um dicionário onde as chaves são os nomes das pessoas e os valores são seus números de telefone. Permita que o usuário adicione, atualize e remova contatos."
   ]
  },
  {
   "cell_type": "code",
   "execution_count": null,
   "id": "5f5609fe",
   "metadata": {
    "id": "5f5609fe"
   },
   "outputs": [],
   "source": [
    "contatos = {}\n",
    "end = ''\n",
    "\n",
    "while end != 'encerrar':\n",
    "    ctt = input('O que deseja fazer:\\nAdicionar contato - 1\\nAtualizar a lista de contatos - 2\\nRemover contato - 3\\nEncerrar programa - 4\\n')\n",
    "\n",
    "    if ctt == '1':\n",
    "            nome = input('\\nQual o nome do contato? \\n')\n",
    "            num = int(input('\\nQual o número de telefone \\n'))\n",
    "            end = input('\\nSe deseja encerrar o programa digite: encerrar \\n')\n",
    "    contatos[nome] = num\n",
    "    print(contatos)\n",
    "    \n",
    "    if ctt == '2':\n",
    "        list(contatos)\n",
    "        atualizar_contatos = input('\\nQual contato você deseja atualizar? \\n')\n",
    "        att = int(input(''))\n",
    "        contatos.pop(atualizar_contatos)\n",
    "        contatos[atualizar_contatos] = att\n",
    "        print(contatos)\n",
    "    elif ctt == '3':\n",
    "        list(contatos)\n",
    "        remover_contato = input('\\nQual contato você deseja remover \\n')\n",
    "        contatos.pop(remover_contato)\n",
    "        print(contatos)\n",
    "\n",
    "    elif ctt  == '4':\n",
    "        print('você encerrou o programa')\n",
    "        break"
   ]
  },
  {
   "cell_type": "markdown",
   "id": "dfe9aa0c",
   "metadata": {
    "id": "dfe9aa0c"
   },
   "source": [
    "# Exercício 7: Notas de Alunos\n",
    "### Crie um programa que permite registrar as notas de alunos em várias disciplinas. Use um dicionário aninhado, onde as chaves externas são os nomes dos alunos e as chaves internas são as disciplinas. Permita que o usuário adicione notas e visualize as médias dos alunos."
   ]
  },
  {
   "cell_type": "code",
   "execution_count": null,
   "id": "8e10caaa",
   "metadata": {
    "id": "8e10caaa",
    "scrolled": true
   },
   "outputs": [],
   "source": [
    "alunos = {}\n",
    "media_total=0\n",
    "qtdalunos = 0\n",
    "while True:\n",
    "    aluno = input('Qual o nome do aluno? ')  \n",
    "    print(f'Ok, {aluno} foi adicionado')\n",
    "    print('---'*40)\n",
    "    matematica=float(input('Quanto ele tirou em matematica? '))\n",
    "\n",
    "    print('---'*40)\n",
    "    portugues=float(input('Quanto ele tirou em portugues? '))\n",
    "    print('---'*40)\n",
    "    historia=float(input('Quanto ele tirou em historia? ')) \n",
    "    print('---'*40)\n",
    "    qtdalunos+=1\n",
    "    media_aluno = (matematica + portugues + historia)/3\n",
    "    media_total+=media_aluno\n",
    "    alunos[aluno]={'matematica': matematica , 'portugues': portugues , 'historia': historia , 'media': media_aluno}\n",
    "    parar = input('Você deseja continuar? ')\n",
    "    \n",
    "    if parar == 'não':\n",
    "        break\n",
    "        \n",
    "print('---'*40)        \n",
    "print('1 - Escolher aluno \\n2 - Ver média total da sala \\n3 - Encerrar programa \\n')\n",
    "\n",
    "while True:\n",
    "    escolha = int(input('Escolha de 1 a 3 '))\n",
    "\n",
    "    if escolha == 1:\n",
    "        escolher_aluno = input('Escolha o aluno: ')\n",
    "        aluno_escolhido = alunos[escolher_aluno]\n",
    "        ver = input('Qual matéria você deseja ver? Se quiser ver a média do aluno escreva \"média\" ')\n",
    "        ver=ver.lower()\n",
    "        ver2 = aluno_escolhido[ver]\n",
    "        print(f'{escolher_aluno} tirou {ver2:.1f} em {ver}')\n",
    "\n",
    "\n",
    "    elif escolha == 2:\n",
    "        print(f'A média da sala em todas as notas é {(media_total/qtdalunos):.1f}')\n",
    "        \n",
    "    elif escolha == 3:\n",
    "        print('Encerrando programa')\n",
    "    \n",
    "        break"
   ]
  },
  {
   "cell_type": "markdown",
   "id": "c81f0cb4",
   "metadata": {
    "id": "c81f0cb4"
   },
   "source": [
    "# Exercício 8: Contagem de Letras em Palavras\n",
    "### Crie uma função que recebe uma lista de palavras e retorna um dicionário onde as chaves são as letras presentes nas palavras e os valores são a contagem total de vezes que cada letra aparece."
   ]
  },
  {
   "cell_type": "code",
   "execution_count": 8,
   "id": "5f058fef",
   "metadata": {
    "id": "5f058fef"
   },
   "outputs": [
    {
     "name": "stdout",
     "output_type": "stream",
     "text": [
      "Contagem de letras: \n",
      "p: 2 \n",
      "y: 1 \n",
      "t: 1 \n",
      "h: 1 \n",
      "o: 4 \n",
      "n: 4 \n",
      "r: 2 \n",
      "g: 3 \n",
      "a: 8 \n",
      "m: 2 \n",
      "c: 1 \n",
      "l: 1 \n",
      "i: 1 \n",
      "u: 1 \n",
      "e: 1 \n",
      "b: 1 \n",
      "d: 2 \n",
      "s: 1 \n"
     ]
    }
   ],
   "source": [
    "palavras = ['python', 'programacao', 'linguagem', 'banana', 'dados']\n",
    "\n",
    "contagem_letras = {}\n",
    "\n",
    "for palavra in palavras:\n",
    "    for letra in palavra:\n",
    "        if letra in contagem_letras:\n",
    "            contagem_letras[letra] += 1\n",
    "        else:\n",
    "            contagem_letras[letra] = 1\n",
    "\n",
    "print('Contagem de letras: ')\n",
    "for letra, contagem in contagem_letras.items():\n",
    "    print(f'{letra}: {contagem} ')\n"
   ]
  },
  {
   "cell_type": "markdown",
   "id": "ac2a2456",
   "metadata": {
    "id": "ac2a2456"
   },
   "source": [
    "# Exercício 9: Calculadora de Despesas\n",
    "### Crie um programa que simule o controle de despesas de um grupo de amigos. Use um dicionário onde as chaves são os nomes dos amigos e os valores são listas de despesas. Permita que o usuário adicione despesas e calcule quanto cada pessoa deve pagar."
   ]
  },
  {
   "cell_type": "code",
   "execution_count": null,
   "id": "9987e73e",
   "metadata": {
    "id": "9987e73e"
   },
   "outputs": [],
   "source": [
    "despesas = {}\n",
    "add = ''\n",
    "\n",
    "while add != 'parar':\n",
    "    nomes = input('Digite um nome ')\n",
    "    qtde = int(input('digite a quantidade '))\n",
    "    despesas[nomes] = qtde \n",
    "    add = input('Deseja continuar? ')\n",
    "\n",
    "soma = 0\n",
    "print(despesas)\n",
    "for i in despesas:\n",
    "    print(f'{i} deve R${despesas[i]}')\n",
    "    soma+=despesas[i]\n",
    "print(f'O total de gastos por todos é R${soma}')"
   ]
  },
  {
   "cell_type": "markdown",
   "id": "07c1ee0b",
   "metadata": {
    "id": "07c1ee0b"
   },
   "source": [
    "# Exercício 10: Jogo de Trívia\n",
    "### Crie um jogo de trívia em que o programa faz perguntas e o usuário responde. Use um dicionário onde as chaves são as perguntas e os valores são as respostas corretas. Mostre as perguntas ao usuário, solicite a resposta e informe se ele acertou ou errou."
   ]
  },
  {
   "cell_type": "code",
   "execution_count": null,
   "id": "0d47f9f5",
   "metadata": {
    "id": "0d47f9f5"
   },
   "outputs": [],
   "source": [
    "perguntascg = {\n",
    "    'Uma fruta amarela? ': 'banana',\n",
    "    'Maior país do mundo?': 'russia',\n",
    "    'Quantos corações tem um polvo? ': '3',\n",
    "    'De quem é a famosa frase “Penso, logo existo”?': 'descartes',\n",
    "    'De onde é a invenção do chuveiro elétrico?': 'brasil',\n",
    "    'Atualmente, quantos elementos químicos a tabela periódica possui?': '118',\n",
    "    'Quanto tempo a luz do Sol demora para chegar à Terra?': '8 minutos',\n",
    "    'Qual a montanha mais alta do Brasil?': 'pico da neblina',\n",
    "    'Quais são o primeiro e o ultimo planetas do sistema solar?': 'mercúrio e netuno',\n",
    "    'Quem foi o primeiro homem a pisar na Lua? Em que ano aconteceu?': 'neil armstrong em 1969',\n",
    "}\n",
    "matematica = {\n",
    "    '10x43':'430'\n",
    "    '430-324':'106' \n",
    "    '25/7':'3.57142857'\n",
    "    '43014+31313': \"74327\"\n",
    "    '3**3': '27'\n",
    "}\n",
    "\n",
    "escolha = input('Escolha um conhecimento para jogar o jogo: \\n1 - Matematica \\n2 - Conhecimentos Gerais \\n3 - Jogos')\n",
    "\n",
    "if escolha == '1':\n",
    "    escolha = matematica\n",
    "elif escolha == '2':\n",
    "    escolha  = perguntascg\n",
    "elif escolha == '3':\n",
    "    escolha = jogos\n",
    "    \n",
    "for pergunta in escolha:\n",
    "    print(f'A pergunta agora é: \\n{pergunta} \\n')\n",
    "    resp = input('Digite a sua resposta: ')\n",
    "    if resp.lower() == perguntas[pergunta]:\n",
    "        print('Você acertou \\n')\n",
    "    else:\n",
    "        print(f'Você errou. \\nA reposta certa era: \\n{perguntas[pergunta]}\\n')\n"
   ]
  }
 ],
 "metadata": {
  "colab": {
   "provenance": []
  },
  "kernelspec": {
   "display_name": "Python 3 (ipykernel)",
   "language": "python",
   "name": "python3"
  },
  "language_info": {
   "codemirror_mode": {
    "name": "ipython",
    "version": 3
   },
   "file_extension": ".py",
   "mimetype": "text/x-python",
   "name": "python",
   "nbconvert_exporter": "python",
   "pygments_lexer": "ipython3",
   "version": "3.11.7"
  }
 },
 "nbformat": 4,
 "nbformat_minor": 5
}
