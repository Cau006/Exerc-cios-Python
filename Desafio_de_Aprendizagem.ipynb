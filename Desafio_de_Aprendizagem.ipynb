{
 "cells": [
  {
   "cell_type": "markdown",
   "id": "3ca3903d",
   "metadata": {
    "id": "3ca3903d"
   },
   "source": [
    "# Desafio de Aprendizagem - Biblioteca SENAI \"Morvan Figueiredo\""
   ]
  },
  {
   "cell_type": "markdown",
   "id": "240591c0",
   "metadata": {
    "id": "240591c0"
   },
   "source": [
    "## Você está encarregado de criar um sistema de gerenciamento de empréstimos de livros, coleta de avaliações de livros pelos alunos e registro de avaliações do atendimento da biblioteca para a Escola SENAI \"Morvan Figueiredo\".\n",
    "## Utilize o programa fornecido abaixo e siga as instruções para realizar as tarefas."
   ]
  },
  {
   "cell_type": "markdown",
   "id": "bdf3496d",
   "metadata": {
    "id": "bdf3496d"
   },
   "source": [
    "### Ao finalizar as tarefas, reflita sobre o processo e explique como o programa demonstra o uso de estruturas de dados, iterações e interações com o usuário para gerenciar empréstimos, avaliações e atendimento da biblioteca."
   ]
  },
  {
   "cell_type": "markdown",
   "id": "0d52d3cd",
   "metadata": {
    "id": "0d52d3cd"
   },
   "source": [
    ".\n",
    ".\n",
    "\n",
    "..\n",
    ".\n",
    ".\n",
    ".\n",
    "..\n",
    ".\n",
    ".\n",
    ".\n",
    ".\n",
    ".\n",
    ".\n",
    "\n",
    ".\n",
    ".\n",
    ".\n",
    "."
   ]
  },
  {
   "cell_type": "markdown",
   "id": "7b451d37",
   "metadata": {
    "id": "7b451d37"
   },
   "source": [
    "### Esse desafio de aprendizagem combina os conceitos que vimos até o momento, como estruturas de controle, manipulação de dicionários, listas e iterações. Ao concluir as tarefas e a reflexão, você estará aplicando diversos aspectos da programação em um cenário realista."
   ]
  },
  {
   "cell_type": "markdown",
   "id": "bd33428b",
   "metadata": {
    "id": "bd33428b"
   },
   "source": [
    "## Tarefas:"
   ]
  },
  {
   "cell_type": "markdown",
   "id": "8ea15f61",
   "metadata": {
    "id": "8ea15f61"
   },
   "source": [
    "## 1 - Registro de Empréstimos:\n",
    "\n",
    "### Registre os empréstimos de livros para os  alunos fictícios da escola.\n",
    "## 2 -  Avaliação de Livros:\n",
    "\n",
    "### Após os empréstimos, simule que os alunos leram os livros e atribua notas de avaliação aos livros emprestados.\n",
    "\n",
    "## 3 - Avaliação do Atendimento da Biblioteca:\n",
    "\n",
    "###  Registre avaliações do atendimento da biblioteca por parte dos alunos.\n",
    "\n",
    "## 4 - Imprimir Relatório:\n",
    "\n",
    "### Após realizar as ações anteriores, imprima um relatório que apresente as informações sobre os empréstimos, avaliações dos livros e a média das avaliações do atendimento da biblioteca.\n"
   ]
  },
  {
   "cell_type": "code",
   "execution_count": 1,
   "id": "7396d8db",
   "metadata": {
    "id": "7396d8db"
   },
   "outputs": [],
   "source": [
    "def bonito():\n",
    "    print('---'*40)"
   ]
  },
  {
   "cell_type": "code",
   "execution_count": 2,
   "id": "01bd2a5a-fd6c-4d96-ab2c-bb524d6885b5",
   "metadata": {},
   "outputs": [],
   "source": [
    "def registrar(nome , lista , lista2):\n",
    "    livro = input(f'{nome} qual livro você deseja?')\n",
    "    lista2.append(nome)\n",
    "    lista.append(livro)\n",
    "    print(f'{nome} por favor entregue em 15 dias o livro {livro}')"
   ]
  },
  {
   "cell_type": "code",
   "execution_count": 3,
   "id": "c24c5096",
   "metadata": {
    "id": "c24c5096"
   },
   "outputs": [],
   "source": [
    "def adicionar_nota(nome, dado , lista2):\n",
    "    nota = float(input(f'{nome} qual nota você dá para {dado}'))\n",
    "    lista2.append(nota)\n",
    "    if dado == 'o livro':\n",
    "        tempo = int(input('Quantos dias você demorou para ler? '))\n",
    "        bonito()\n",
    "        dias.append(tempo)"
   ]
  },
  {
   "cell_type": "code",
   "execution_count": 4,
   "id": "61d0dbfc-a9d1-499e-8137-ab41de9fffbc",
   "metadata": {},
   "outputs": [],
   "source": [
    "def fol(lista , dado , lista2 ):\n",
    "    i=0\n",
    "    for i in range(len(lista)):\n",
    "        nome = lista [i]\n",
    "        adicionar_nota(nome, dado , lista2)"
   ]
  },
  {
   "cell_type": "code",
   "execution_count": 9,
   "id": "04bb280c-7efe-4173-948d-5b61ead24ebc",
   "metadata": {},
   "outputs": [],
   "source": [
    "def imprimir(dado1 , dado2,dado3,dado4, dado5):\n",
    "    for i in range(len(dado1)):\n",
    "        if dado5[i]<=15:\n",
    "            print(f'O {dado1[i]} deu {dado2[i]} de nota para o livro {dado3[i]}, já a nota dá a biblioteca é {dado4[i]}, o mesmo entregou em {dado5[i]:.0f} dias')\n",
    "        elif dado5[i]>15:\n",
    "            print(f'O {dado1[i]} deu {dado2[i]} de nota para o livro {dado3[i]}, já a nota dá a biblioteca é {dado4[i]}, o mesmo atrasou em {dado5[i]:.0f} dias ')\n",
    "    "
   ]
  },
  {
   "cell_type": "code",
   "execution_count": 6,
   "id": "fcf44e58-c845-44a1-985c-dc0187648321",
   "metadata": {},
   "outputs": [],
   "source": [
    "def media(numero1 , numero2 , dado):\n",
    "    media = numero1 / numero2\n",
    "    print(f'A média da {dado} é {media :.1f}')"
   ]
  },
  {
   "cell_type": "code",
   "execution_count": 7,
   "id": "2b21aa21",
   "metadata": {
    "id": "2b21aa21"
   },
   "outputs": [
    {
     "name": "stdin",
     "output_type": "stream",
     "text": [
      "Qual é seu nome?  Cau\n",
      "Cau qual livro você deseja? bilbia\n"
     ]
    },
    {
     "name": "stdout",
     "output_type": "stream",
     "text": [
      "Cau por favor entregue em 15 dias o livro bilbia\n",
      "------------------------------------------------------------------------------------------------------------------------\n"
     ]
    },
    {
     "name": "stdin",
     "output_type": "stream",
     "text": [
      "Alguém mais deseja pegar um livro? \n"
     ]
    },
    {
     "name": "stdout",
     "output_type": "stream",
     "text": [
      "------------------------------------------------------------------------------------------------------------------------\n"
     ]
    },
    {
     "name": "stdin",
     "output_type": "stream",
     "text": [
      "Qual é seu nome?  acs\n",
      "acs qual livro você deseja? 20\n"
     ]
    },
    {
     "name": "stdout",
     "output_type": "stream",
     "text": [
      "acs por favor entregue em 15 dias o livro 20\n",
      "------------------------------------------------------------------------------------------------------------------------\n"
     ]
    },
    {
     "name": "stdin",
     "output_type": "stream",
     "text": [
      "Alguém mais deseja pegar um livro? não\n"
     ]
    },
    {
     "name": "stdout",
     "output_type": "stream",
     "text": [
      "------------------------------------------------------------------------------------------------------------------------\n",
      "------------------------------------------------------------------------------------------------------------------------\n"
     ]
    },
    {
     "name": "stdin",
     "output_type": "stream",
     "text": [
      "Cau qual nota você dá para o livro 10\n",
      "Quantos dias você demorou para ler?  10\n"
     ]
    },
    {
     "name": "stdout",
     "output_type": "stream",
     "text": [
      "------------------------------------------------------------------------------------------------------------------------\n"
     ]
    },
    {
     "name": "stdin",
     "output_type": "stream",
     "text": [
      "acs qual nota você dá para o livro 10\n",
      "Quantos dias você demorou para ler?  10\n"
     ]
    },
    {
     "name": "stdout",
     "output_type": "stream",
     "text": [
      "------------------------------------------------------------------------------------------------------------------------\n",
      "------------------------------------------------------------------------------------------------------------------------\n"
     ]
    },
    {
     "name": "stdin",
     "output_type": "stream",
     "text": [
      "Cau qual nota você dá para biblioteca 10\n",
      "acs qual nota você dá para biblioteca 10\n"
     ]
    },
    {
     "name": "stdout",
     "output_type": "stream",
     "text": [
      "------------------------------------------------------------------------------------------------------------------------\n",
      "O Cau deu 10.0 de nota para o livro bilbia, já a nota dá deu a biblioteca é 10.0, o mesmo entregou em 10 dias\n",
      "O acs deu 10.0 de nota para o livro 20, já a nota dá deu a biblioteca é 10.0, o mesmo entregou em 10 dias\n",
      "------------------------------------------------------------------------------------------------------------------------\n",
      "A média da biblioteca é 10.0\n"
     ]
    }
   ],
   "source": [
    "alunos = []\n",
    "livro = []\n",
    "notas_bio=[]\n",
    "dias=[]\n",
    "notas=[]\n",
    "\n",
    "while True:\n",
    "    try:\n",
    "        nome = input('Qual é seu nome? ')\n",
    "        registrar(nome, livro , alunos)\n",
    "        bonito()\n",
    "        escolha = input('Alguém mais deseja pegar um livro?')\n",
    "        bonito()\n",
    "        escolha = escolha.lower()\n",
    "        if escolha == 'não':\n",
    "            break\n",
    "    except:\n",
    "        print('Algo deu errado')\n",
    "        \n",
    "bonito()\n",
    "fol(alunos , \"o livro\", notas )\n",
    "bonito()\n",
    "fol(alunos , \"biblioteca\", notas_bio )\n",
    "bonito()\n",
    "imprimir(alunos, notas,livro,notas_bio, dias) \n",
    "bonito()\n",
    "media(sum(notas_bio),len(notas_bio),'biblioteca')"
   ]
  },
  {
   "cell_type": "code",
   "execution_count": null,
   "id": "80328d7e-8aa6-4b37-85d2-353455fc1648",
   "metadata": {},
   "outputs": [],
   "source": []
  },
  {
   "cell_type": "code",
   "execution_count": null,
   "id": "55353154-a312-44cf-952e-dbbd24c501fd",
   "metadata": {},
   "outputs": [],
   "source": [
    "   \n",
    "        "
   ]
  },
  {
   "cell_type": "code",
   "execution_count": null,
   "id": "b298b239-9215-45b8-8e1a-ae2cfe129899",
   "metadata": {},
   "outputs": [],
   "source": []
  },
  {
   "cell_type": "code",
   "execution_count": null,
   "id": "bcdfd213-977b-4829-bdbd-2f07e15d7e79",
   "metadata": {},
   "outputs": [],
   "source": []
  },
  {
   "cell_type": "code",
   "execution_count": null,
   "id": "57480878-aeee-4ce9-ad26-01240732d9c1",
   "metadata": {},
   "outputs": [],
   "source": []
  },
  {
   "cell_type": "code",
   "execution_count": null,
   "id": "93da8575-39a0-4282-bd00-e2e401bc5f2b",
   "metadata": {},
   "outputs": [],
   "source": []
  },
  {
   "cell_type": "code",
   "execution_count": null,
   "id": "fca2c145-5a1b-47a9-98a2-6a1e82d5bd30",
   "metadata": {},
   "outputs": [],
   "source": []
  }
 ],
 "metadata": {
  "colab": {
   "provenance": []
  },
  "kernelspec": {
   "display_name": "Python 3 (ipykernel)",
   "language": "python",
   "name": "python3"
  },
  "language_info": {
   "codemirror_mode": {
    "name": "ipython",
    "version": 3
   },
   "file_extension": ".py",
   "mimetype": "text/x-python",
   "name": "python",
   "nbconvert_exporter": "python",
   "pygments_lexer": "ipython3",
   "version": "3.11.7"
  }
 },
 "nbformat": 4,
 "nbformat_minor": 5
}
