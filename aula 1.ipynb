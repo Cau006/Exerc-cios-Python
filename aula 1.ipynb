{
 "cells": [
  {
   "cell_type": "markdown",
   "id": "40f6ad34",
   "metadata": {},
   "source": [
    "# 1 \n",
    "## 2\n",
    "### 3 \n",
    "#### 4\n",
    "##### 5\n",
    "###### 6  "
   ]
  },
  {
   "cell_type": "code",
   "execution_count": 1,
   "id": "1bd6ece2",
   "metadata": {
    "scrolled": true
   },
   "outputs": [
    {
     "name": "stdout",
     "output_type": "stream",
     "text": [
      "0.6666666666666666\n"
     ]
    }
   ],
   "source": [
    "x=2\n",
    "y=3\n",
    "print(x/y)"
   ]
  },
  {
   "cell_type": "code",
   "execution_count": 1202,
   "id": "0b7dad9a",
   "metadata": {},
   "outputs": [
    {
     "name": "stdout",
     "output_type": "stream",
     "text": [
      "0.6666666666666666\n"
     ]
    }
   ],
   "source": [
    "10/3\n",
    "3*2\n",
    "3**2"
   ]
  },
  {
   "cell_type": "code",
   "execution_count": 1377,
   "id": "03e97b86",
   "metadata": {},
   "outputs": [
    {
     "name": "stdout",
     "output_type": "stream",
     "text": [
      "Qual a sua idade? 18\n",
      "Maior de idade\n"
     ]
    }
   ],
   "source": [
    "pessoa = float(input('Qual a sua idade? '))\n",
    "if pessoa >= 18: print('Maior de idade')\n",
    "elif pessoa < 18: print(\"Menor de idade\")"
   ]
  },
  {
   "cell_type": "code",
   "execution_count": 1351,
   "id": "561e7c4a",
   "metadata": {},
   "outputs": [
    {
     "name": "stdout",
     "output_type": "stream",
     "text": [
      "numero par\n"
     ]
    }
   ],
   "source": [
    "numero = 6\n",
    "if numero%2 == 0: print(\"numero par\")\n",
    "else: print( \"numero impar\")"
   ]
  },
  {
   "cell_type": "code",
   "execution_count": 1346,
   "id": "2dbfaa76",
   "metadata": {},
   "outputs": [
    {
     "name": "stdout",
     "output_type": "stream",
     "text": [
      "Parabêns você passou com 74.0\n"
     ]
    }
   ],
   "source": [
    "nota1 = 66\n",
    "nota2 = 75\n",
    "nota3 = 81\n",
    "media_geral =(nota1+nota2+nota3)/3\n",
    "if media_geral > 50 : print('Parabêns você passou com', media_geral)\n",
    "else: print('Infelizmente você não passou, você tirou', media_geral)"
   ]
  },
  {
   "cell_type": "code",
   "execution_count": 1353,
   "id": "a1878a7a",
   "metadata": {},
   "outputs": [
    {
     "name": "stdout",
     "output_type": "stream",
     "text": [
      "Seu lucro é 6 R$\n"
     ]
    }
   ],
   "source": [
    "faturamento = 60\n",
    "custo =54\n",
    "lucro =faturamento - custo\n",
    "print('Seu lucro é',lucro,'R$')"
   ]
  },
  {
   "cell_type": "code",
   "execution_count": null,
   "id": "9eb08733",
   "metadata": {},
   "outputs": [],
   "source": [
    "input(\"Digite sua primeira nota\")"
   ]
  },
  {
   "cell_type": "code",
   "execution_count": 1375,
   "id": "975e2e6f",
   "metadata": {},
   "outputs": [
    {
     "name": "stdout",
     "output_type": "stream",
     "text": [
      "Qual o seu nome? denîs penoino\n",
      "Digite sua primeira nota 90\n",
      "Digite sua segunda nota 0\n",
      "Digite sua terceira nota 999\n",
      "denîs penoino parabêns você passou, você tirou 363.0\n"
     ]
    }
   ],
   "source": [
    "Nome = input (\"Qual o seu nome? \")\n",
    "Nota1= float(input('Digite sua primeira nota '))\n",
    "Nota2= float(input('Digite sua segunda nota '))\n",
    "Nota3= float(input('Digite sua terceira nota '))\n",
    "Media=(Nota1+Nota2+Nota3)//3\n",
    "if Media > 5 :print(Nome , 'parabêns você passou, você tirou', Media)\n",
    "else:print(Nome , 'infelizmente você não passou, você tirou', Media)"
   ]
  }
 ],
 "metadata": {
  "kernelspec": {
   "display_name": "Python 3 (ipykernel)",
   "language": "python",
   "name": "python3"
  },
  "language_info": {
   "codemirror_mode": {
    "name": "ipython",
    "version": 3
   },
   "file_extension": ".py",
   "mimetype": "text/x-python",
   "name": "python",
   "nbconvert_exporter": "python",
   "pygments_lexer": "ipython3",
   "version": "3.11.5"
  }
 },
 "nbformat": 4,
 "nbformat_minor": 5
}
