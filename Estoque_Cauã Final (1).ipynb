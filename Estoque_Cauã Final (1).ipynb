{
 "cells": [
  {
   "cell_type": "markdown",
   "id": "83a95d9a",
   "metadata": {
    "id": "83a95d9a"
   },
   "source": [
    "#### Atividade de Reforço - Você é responsável por desenvolver um programa simples de Logística em Python para simular um sistema de controle de estoque em uma pequena empresa. A empresa possui diversos produtos, cada um com seu próprio código, nome, quantidade em estoque e preço unitário. O programa deve permitir a realização de algumas operações básicas, como: 1 - adicionar produtos ao estoque, 2 - vender produtos, 3 - verificar o estoque atual, 4 - calcular o faturamento e 5 - Sair do programa."
   ]
  },
  {
   "cell_type": "code",
   "execution_count": 13,
   "id": "497e9045-2caf-457d-8d7e-e2cffa8587fa",
   "metadata": {
    "id": "0256fd9e"
   },
   "outputs": [
    {
     "name": "stdout",
     "output_type": "stream",
     "text": [
      "***MENU*** \n",
      " 1 - adicionar produtos ao estoque \n",
      " 2 - vender produtos \n",
      " 3 - verificar o estoque atual \n",
      " 4 - calcular o faturamento \n",
      " 5 - Sair do programa\n"
     ]
    },
    {
     "name": "stdin",
     "output_type": "stream",
     "text": [
      " \n",
      " Qual a sua escolha?   5\n"
     ]
    },
    {
     "name": "stdout",
     "output_type": "stream",
     "text": [
      " \n",
      "Programa encerrado\n"
     ]
    }
   ],
   "source": [
    "print('***MENU*** \\n 1 - adicionar produtos ao estoque \\n 2 - vender produtos \\n 3 - verificar o estoque atual \\n 4 - calcular o faturamento \\n 5 - Sair do programa')\n",
    "codigos = [101, 102, 103]\n",
    "nomes = ['Produto A', 'Produto B', 'Produto C']\n",
    "quantidades = [50, 30, 20]\n",
    "precos_unitarios = [10.50, 15.00, 20.00]\n",
    "escolha=''\n",
    "faturamentos=[]\n",
    "nomes_faturamentos=[]\n",
    "while True:\n",
    "    \n",
    "    escolha = int(input(' \\n Qual a sua escolha?  '))\n",
    "    print(' ')        \n",
    "    if escolha == 1:\n",
    "        adicionar = float(input('Adicione o código do produto '))\n",
    "        if codigos.count(adicionar) > 0:\n",
    "            print('Este código já estâ registrado \\n Mandando para página de escolha \\n ----------------------------------------------------')\n",
    "        else:\n",
    "            codigos.append(adicionar)\n",
    "            nome=input('Qual o nome do produto? ')\n",
    "            nomes.append(nome)\n",
    "            \n",
    "            quantidade=float(input('Qual é a quantidade de itens? '))\n",
    "            quantidades.append(quantidade)\n",
    "            \n",
    "            preco=float(input('Qual é o preço do item? '))\n",
    "            precos_unitarios.append(preco)\n",
    "            print('{:.0f} itens foram adicionados do item {} com o código {:.0f} custando R${:.2f} \\n ----------------------------------------------------'.format(quantidade,nome,adicionar,preco))\n",
    "\n",
    "    elif escolha == 2:\n",
    "            cod=int(input('Digite o código do produto a ser vendido '))\n",
    "            if codigos.count(cod) < 0:\n",
    "                print('Este código não está registrado \\n Mandando para página de escolha \\n ---------------------------------------------------- ' )\n",
    "            else:\n",
    "                for i in range (len(nomes)):\n",
    "                    if cod == codigos[i]:\n",
    "                        vendidos= int(input('Quantos itens serão vendidos do {} '.format(nomes[i])))\n",
    "                        \n",
    "                        if vendidos <= quantidades[i]:\n",
    "                            estoque_atual=quantidades[i]-vendidos\n",
    "                            quantidades.pop(i)\n",
    "                            quantidades.insert(i, estoque_atual)\n",
    "    \n",
    "                            faturamento=vendidos*precos_unitarios[i]\n",
    "                            faturamentos.append(faturamento)\n",
    "                            nomes_faturamentos.append(nomes[i])\n",
    "                            print('O {} agora tem {:.0f} itens  \\n ----------------------------------------------------'.format(nomes[i],estoque_atual))\n",
    "                        elif vendidos:\n",
    "                            print('Além do estoque \\n Mandando para página de escolha \\n ----------------------------------------------------')\n",
    "            \n",
    "    elif escolha == 3:\n",
    "        code=int(input('Qual produto você deseja ver o estoque?'))\n",
    "        if codigos.count(code) < 0:\n",
    "                print('Este código não está registrado \\n Mandando para página de escolha \\n ----------------------------------------------------' )\n",
    "        else:\n",
    "            for n in range (len(nomes)):    \n",
    "                if code == codigos[n]:\n",
    "                    print('O {} tem {:.0f} itens no estoque  \\n ----------------------------------------------------'.format(nomes[n], quantidades[n]))\n",
    "        \n",
    "    elif escolha == 4:\n",
    "        resultado= sum(faturamentos)\n",
    "        for b in range (len(faturamentos)): \n",
    "            print('O faturamento do {} sozinho é {} '.format(nomes_faturamentos[b],faturamentos[b]))\n",
    "            \n",
    "        if resultado == 0:\n",
    "            print('Você não vendeu nada')\n",
    "        elif resultado > faturamentos[0]:\n",
    "            print('O faturamento total é {}  \\n ----------------------------------------------------'.format(resultado))\n",
    "            \n",
    "    elif escolha == 5:\n",
    "        print('Programa encerrado')\n",
    "        break\n",
    "        \n",
    "    elif escolha !=5 or escolha != 1 or escolha !=2 or escolha !=3 or escolha !=4 :\n",
    "        print(\"Coloque um número válido, tente novamente\")\n",
    "        print('***MENU*** \\n 1 - adicionar produtos ao estoque \\n 2 - vender produtos \\n 3 - verificar o estoque atual \\n 4 - calcular o faturamento \\n 5 - Sair do programa')\n",
    "    else: \n",
    "        \n",
    "        print('Dado inválido, tente novamente')\n"
   ]
  },
  {
   "cell_type": "code",
   "execution_count": null,
   "id": "280a6a74-7781-4889-9dbe-c3e48ee68cce",
   "metadata": {},
   "outputs": [],
   "source": []
  }
 ],
 "metadata": {
  "colab": {
   "provenance": []
  },
  "kernelspec": {
   "display_name": "Python 3 (ipykernel)",
   "language": "python",
   "name": "python3"
  },
  "language_info": {
   "codemirror_mode": {
    "name": "ipython",
    "version": 3
   },
   "file_extension": ".py",
   "mimetype": "text/x-python",
   "name": "python",
   "nbconvert_exporter": "python",
   "pygments_lexer": "ipython3",
   "version": "3.11.7"
  }
 },
 "nbformat": 4,
 "nbformat_minor": 5
}
