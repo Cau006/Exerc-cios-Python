{
 "cells": [
  {
   "cell_type": "markdown",
   "id": "9dd4c2d2",
   "metadata": {
    "id": "9dd4c2d2"
   },
   "source": [
    "# Lista de Exercícios\n",
    "\n",
    "## Estrutura de Repetições\n",
    "\n",
    "\n",
    "#\n",
    "\n",
    "#\n"
   ]
  },
  {
   "cell_type": "markdown",
   "id": "a11e7125",
   "metadata": {
    "id": "a11e7125"
   },
   "source": [
    "# Exercício 1:\n",
    "## Situação Problema: Um professor deseja imprimir na tela os números pares de 0 a 10 para ensinar os alunos sobre os conceitos de números pares e o uso da estrutura de repetição for."
   ]
  },
  {
   "cell_type": "code",
   "execution_count": 65,
   "id": "70b32ec8",
   "metadata": {
    "id": "70b32ec8"
   },
   "outputs": [
    {
     "name": "stdout",
     "output_type": "stream",
     "text": [
      "2\n",
      "4\n",
      "6\n",
      "8\n",
      "10\n"
     ]
    }
   ],
   "source": [
    "for i in range(1,11):\n",
    "    if i%2==0:\n",
    "        print(i)"
   ]
  },
  {
   "cell_type": "markdown",
   "id": "774c24f7",
   "metadata": {
    "id": "774c24f7"
   },
   "source": [
    "# Exercício 2:\n",
    "## Situação Problema: Um vendedor de frutas quer mostrar ao cliente as frutas disponíveis em sua banca. Ele possui uma lista de nomes de frutas e deseja imprimir cada nome em uma linha separada para facilitar a visualização."
   ]
  },
  {
   "cell_type": "code",
   "execution_count": 1,
   "id": "2355128b",
   "metadata": {
    "id": "2355128b"
   },
   "outputs": [
    {
     "name": "stdout",
     "output_type": "stream",
     "text": [
      "Esta fruta está disponível: banana\n",
      "Esta fruta está disponível: pera\n",
      "Esta fruta está disponível: maçã\n"
     ]
    }
   ],
   "source": [
    "frutas=['banana','pera','laranja','maçã']\n",
    "disponivel=['disponivel','disponivel','indisponivel','disponivel']\n",
    "for i in range(len(frutas)):\n",
    "    if disponivel[i]=='disponivel':\n",
    "        print('Esta fruta está disponível: {}'.format(frutas[i]))"
   ]
  },
  {
   "cell_type": "markdown",
   "id": "4a8789d6",
   "metadata": {
    "id": "4a8789d6"
   },
   "source": [
    "# Exercício 3:\n",
    "## Situação Problema: Uma criança está aprendendo a tabuada e precisa praticar a tabuada de um número específico. O programa pede à criança para digitar um número e, em seguida, imprime a tabuada desse número de 1 a 10 para ajudá-la a praticar."
   ]
  },
  {
   "cell_type": "code",
   "execution_count": 6,
   "id": "4fe9fcc5",
   "metadata": {
    "id": "4fe9fcc5"
   },
   "outputs": [
    {
     "name": "stdout",
     "output_type": "stream",
     "text": [
      "Coloque um número: 4\n",
      "----------------------------------------------------------------------------------------------------\n",
      "O número x 1 é: 4.0\n",
      "----------------------------------------------------------------------------------------------------\n",
      "O número x 2 é: 8.0\n",
      "----------------------------------------------------------------------------------------------------\n",
      "O número x 3 é: 12.0\n",
      "----------------------------------------------------------------------------------------------------\n",
      "O número x 4 é: 16.0\n",
      "----------------------------------------------------------------------------------------------------\n",
      "O número x 5 é: 20.0\n",
      "----------------------------------------------------------------------------------------------------\n",
      "O número x 6 é: 24.0\n",
      "----------------------------------------------------------------------------------------------------\n",
      "O número x 7 é: 28.0\n",
      "----------------------------------------------------------------------------------------------------\n",
      "O número x 8 é: 32.0\n",
      "----------------------------------------------------------------------------------------------------\n",
      "O número x 9 é: 36.0\n",
      "----------------------------------------------------------------------------------------------------\n",
      "O número x 10 é: 40.0\n"
     ]
    }
   ],
   "source": [
    "número=float(input('Coloque um número: '))\n",
    "for i in range (1,11):\n",
    "    print('-'*100)\n",
    "    print('O número x {} é: {}'.format(i,(número*(i))))"
   ]
  },
  {
   "cell_type": "markdown",
   "id": "73292b54",
   "metadata": {
    "id": "73292b54"
   },
   "source": [
    "# Exercício 4:\n",
    "## Situação Problema: Um cientista está analisando dados experimentais e deseja saber o valor e a posição de cada leitura registrada. O programa recebe uma lista de números, e o cientista precisa imprimir cada valor junto com sua respectiva posição na lista."
   ]
  },
  {
   "cell_type": "code",
   "execution_count": null,
   "id": "efd1518c",
   "metadata": {
    "id": "efd1518c"
   },
   "outputs": [],
   "source": [
    "n=[34,52,14,42,423,4255]\n",
    "for i in range(len(n)):\n",
    "    print(\"O número {} está em {}º lugar\".format(n[i],i))"
   ]
  },
  {
   "cell_type": "markdown",
   "id": "dfa079f6",
   "metadata": {
    "id": "dfa079f6"
   },
   "source": [
    "# Exercício 5:\n",
    "## Situação Problema: Um caixa de supermercado precisa calcular o total de uma compra. Ele registra o preço de cada produto em uma lista e, em seguida, usa um loop for para somar todos os preços e obter o valor total da compra."
   ]
  },
  {
   "cell_type": "code",
   "execution_count": null,
   "id": "4022ade0",
   "metadata": {
    "id": "4022ade0"
   },
   "outputs": [],
   "source": [
    "lista=[20,15,3.99,33.33]\n",
    "soma=0\n",
    "for i in range (len(lista)):\n",
    "    soma += lista[i]\n",
    "print(soma)"
   ]
  },
  {
   "cell_type": "markdown",
   "id": "e133fb36",
   "metadata": {
    "id": "e133fb36"
   },
   "source": [
    "# Exercício 6:\n",
    "## Situação Problema: Um professor quer ensinar aos alunos como contar as vogais em uma frase. O programa pede ao aluno para digitar uma frase e, em seguida, conta quantas vogais existem nessa frase, mostrando o resultado na tela."
   ]
  },
  {
   "cell_type": "code",
   "execution_count": 5,
   "id": "e76888d1",
   "metadata": {
    "id": "e76888d1"
   },
   "outputs": [
    {
     "name": "stdout",
     "output_type": "stream",
     "text": [
      "Insira uma frase: fara\n",
      "----------------------------------------\n",
      "Esta frase tem 2 vogal/vogais\n"
     ]
    }
   ],
   "source": [
    "frase=input('Insira uma frase: ')\n",
    "vogais=0\n",
    "for letra in frase:\n",
    "    if letra in ('a','e','i','o','u'):\n",
    "        vogais+=1\n",
    "print('-'*40)\n",
    "if vogais == 0:\n",
    "    print('Esta frase não tem nenhuma vogal')\n",
    "    \n",
    "elif vogais >0:\n",
    "    print('Esta frase tem {} vogal/vogais'.format(vogais))\n",
    "    \n",
    "vogais=0"
   ]
  },
  {
   "cell_type": "markdown",
   "id": "9f19b6dc",
   "metadata": {
    "id": "9f19b6dc"
   },
   "source": [
    "# Exercício 7:\n",
    "## Situação Problema: Um jogador está jogando um jogo de adivinhação e precisa descobrir o número mais alto dentre várias tentativas. O programa recebe uma lista de números inseridos pelo jogador e exibe o maior número após todas as tentativas."
   ]
  },
  {
   "cell_type": "code",
   "execution_count": 100,
   "id": "0f7b309b",
   "metadata": {
    "id": "c325a255"
   },
   "outputs": [
    {
     "name": "stdout",
     "output_type": "stream",
     "text": [
      "Coloque os números! 3131 2\n",
      "O maior número é 3131\n"
     ]
    }
   ],
   "source": [
    "lista = input('Coloque os números! ')\n",
    "lista = lista.split()\n",
    "\n",
    "transf = [float(numeros) for numeros in lista]\n",
    "maior = max(transf)\n",
    "\n",
    "print('O maior número é {:.0f}'.format(maior))"
   ]
  },
  {
   "cell_type": "markdown",
   "id": "d8bdadbe",
   "metadata": {
    "id": "d8bdadbe"
   },
   "source": [
    "# Exercício 8:\n",
    "## Situação Problema: Um professor deseja ensinar o alfabeto para seus alunos. O programa pede ao aluno para digitar uma palavra e, em seguida, exibe cada letra da palavra em uma linha separada para ajudar os alunos a praticarem o reconhecimento das letras."
   ]
  },
  {
   "cell_type": "code",
   "execution_count": 105,
   "id": "19e9a80c",
   "metadata": {
    "id": "19e9a80c"
   },
   "outputs": [
    {
     "name": "stdout",
     "output_type": "stream",
     "text": [
      "Insira uma palavra: aba\n",
      "\n",
      " a\n",
      "\n",
      " b\n",
      "\n",
      " a\n"
     ]
    }
   ],
   "source": [
    "palavra=input('Insira uma palavra: ')\n",
    "for letra in palavra:\n",
    "    print('\\n',letra)"
   ]
  }
 ],
 "metadata": {
  "colab": {
   "provenance": []
  },
  "kernelspec": {
   "display_name": "Python 3 (ipykernel)",
   "language": "python",
   "name": "python3"
  },
  "language_info": {
   "codemirror_mode": {
    "name": "ipython",
    "version": 3
   },
   "file_extension": ".py",
   "mimetype": "text/x-python",
   "name": "python",
   "nbconvert_exporter": "python",
   "pygments_lexer": "ipython3",
   "version": "3.11.5"
  }
 },
 "nbformat": 4,
 "nbformat_minor": 5
}
