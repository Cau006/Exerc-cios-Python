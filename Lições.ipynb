{
 "cells": [
  {
   "cell_type": "code",
   "execution_count": 9,
   "id": "b7754a4b",
   "metadata": {},
   "outputs": [
    {
     "name": "stdout",
     "output_type": "stream",
     "text": [
      "Quantos anos você tem? 7\n",
      "Quantos meses ja se passou que você fez essa idade? Se não passou nenhum coloque zero 4\n",
      "Quantos dias já se passaram? Se não passou nenhum coloque zero 3\n",
      "Você já viveu 2678 dias\n"
     ]
    }
   ],
   "source": [
    "idade_anos = (int(input('Quantos anos você tem? ')))*365\n",
    "idade_meses = int(input('Quantos meses ja se passou que você fez essa idade? Se não passou nenhum coloque zero '))*30\n",
    "idade_dia = int(input('Quantos dias já se passaram? Se não passou nenhum coloque zero '))\n",
    "idade_total = idade_dia + idade_meses + idade_anos\n",
    "print('Você já viveu {} dias'.format(idade_total))"
   ]
  },
  {
   "cell_type": "code",
   "execution_count": 12,
   "id": "e0319df6",
   "metadata": {},
   "outputs": [
    {
     "name": "stdout",
     "output_type": "stream",
     "text": [
      "Qual é o comprimento da base do triângulo?3\n",
      "Qual é a altura do triângulo?3\n",
      "A área do triângulo é  4.5\n"
     ]
    }
   ],
   "source": [
    "base = float(input('Qual é o comprimento da base do triângulo?'))\n",
    "altura = float(input('Qual é a altura do triângulo?'))\n",
    "print('A área do triângulo é ' ,((base*altura)/2))"
   ]
  },
  {
   "cell_type": "code",
   "execution_count": 41,
   "id": "b9329e1b",
   "metadata": {},
   "outputs": [
    {
     "name": "stdout",
     "output_type": "stream",
     "text": [
      "Qual é o preço do carro no custo de fábrica? 100\n",
      "O preço que você irá pagar será R$ 185.6\n"
     ]
    }
   ],
   "source": [
    "custo_de_fabrica= float(input('Qual é o preço do carro no custo de fábrica? '))\n",
    "custo_total = (custo_de_fabrica)*1.28\n",
    "print('O preço que você irá pagar será R$', custo_total*1.45)"
   ]
  },
  {
   "cell_type": "code",
   "execution_count": 31,
   "id": "d7e70973",
   "metadata": {},
   "outputs": [
    {
     "name": "stdout",
     "output_type": "stream",
     "text": [
      "Qual é a altura do tanque?2\n",
      "Qual é o raio do tanque?3\n",
      "Você precisa de 6 latas e o custo final é 300.00 R$\n"
     ]
    }
   ],
   "source": [
    "altura_tanque= float(input('Qual é a altura do tanque?'))\n",
    "raio_tanque = float(input('Qual é o raio do tanque?'))\n",
    "area_total = 2 * 3.1415 * raio_tanque * (raio_tanque + altura_tanque)\n",
    "litros_necessarios = area_total / 3\n",
    "latas_necessarias = (int(litros_necessarios / 5))\n",
    "custo_total = (latas_necessarias * 50)\n",
    "print('Você precisa de {} latas e o custo final é {:.2f} R$'.format(latas_necessarias , custo_total))"
   ]
  },
  {
   "cell_type": "code",
   "execution_count": null,
   "id": "87c09087",
   "metadata": {},
   "outputs": [],
   "source": [
    "bebida_cadastrada=input('Qual o nome da bebida?')\n",
    "preco=float(input('Qual o preço da bebida?'))\n",
    "quantidade=int(input('Quantas bebidas serão depositadas?'))\n",
    "print('Você adicionou {} {}, cada uma custa R${}, mas no total é R${} '.format( quantidade, bebida_cadastrada,  preco, (preco*quantidade)))"
   ]
  }
 ],
 "metadata": {
  "kernelspec": {
   "display_name": "Python 3 (ipykernel)",
   "language": "python",
   "name": "python3"
  },
  "language_info": {
   "codemirror_mode": {
    "name": "ipython",
    "version": 3
   },
   "file_extension": ".py",
   "mimetype": "text/x-python",
   "name": "python",
   "nbconvert_exporter": "python",
   "pygments_lexer": "ipython3",
   "version": "3.11.5"
  }
 },
 "nbformat": 4,
 "nbformat_minor": 5
}
