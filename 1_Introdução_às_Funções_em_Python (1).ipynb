{
 "cells": [
  {
   "cell_type": "markdown",
   "id": "d6fa79c4",
   "metadata": {
    "id": "d6fa79c4"
   },
   "source": [
    "# Exercícios de Introdução às Funções em Python"
   ]
  },
  {
   "cell_type": "markdown",
   "id": "6ea92414",
   "metadata": {
    "id": "6ea92414"
   },
   "source": [
    "######  . . . . .  . . . . . . . . . . . . . . . . . . . . . ..  . . . ..  .. .  ..  . . . . ..  . . . . . .. .  . . . . . . . . . ..  . .. .  . . .. . ..  .. .  . . . . . . . . .. . .  .. . . . . . .. . . . . . . . . . . . . . . . .. . . . . . ..\n",
    ".\n",
    "..\n",
    ".\n",
    "..\n",
    ".\n",
    "..\n",
    ".\n",
    "..\n"
   ]
  },
  {
   "cell_type": "markdown",
   "id": "66043de7",
   "metadata": {
    "id": "66043de7"
   },
   "source": [
    "## Introdução ao uso de funções em Python. Funções são blocos de código que nos permitem organizar e reutilizar tarefas em nossos programas. Elas são uma parte fundamental da programação e nos ajudam a escrever código mais limpo, eficiente e modular.\n",
    "\n",
    "## Para praticar o que aprendemos, temos uma série de exercícios que envolvem o uso de funções básicas para realizar cálculos simples. Vocês deverão criar funções que resolvam os problemas propostos. Lembre-se de usar nomes significativos para suas funções e variáveis, para que o código seja claro e compreensível."
   ]
  },
  {
   "cell_type": "markdown",
   "id": "a7f6647f",
   "metadata": {
    "id": "a7f6647f"
   },
   "source": [
    "## Exercício 1: Calcular a área de um retângulo\n",
    "### Situação Problema: Você está construindo um jardim retangular em sua casa. A largura do jardim é 5 metros e o comprimento é 8 metros. Qual é a área total do jardim?"
   ]
  },
  {
   "cell_type": "code",
   "execution_count": 12,
   "id": "931944a6",
   "metadata": {
    "id": "931944a6"
   },
   "outputs": [
    {
     "name": "stdin",
     "output_type": "stream",
     "text": [
      "Insira a medida  4\n",
      "Insira oura medida  9\n"
     ]
    },
    {
     "name": "stdout",
     "output_type": "stream",
     "text": [
      "A area total é de: 36 M^2\n"
     ]
    }
   ],
   "source": [
    "def calcular_area(md1, md2):\n",
    "    md1 = float(input('Insira a medida '))\n",
    "    md2 = float(input('Insira oura medida '))\n",
    "    area = float(md1) * float(md2)\n",
    "    return print(f'A area total é de: {area:.0f} M^2')\n",
    "\n",
    "calcular_area(5,8)"
   ]
  },
  {
   "cell_type": "markdown",
   "id": "f9684318",
   "metadata": {
    "id": "f9684318"
   },
   "source": [
    "## Exercício 2: Calcular o quadrado de um número\n",
    "### Situação Problema: Você está medindo o lado de um quadrado. O lado mede 6 metros. Qual é a área desse quadrado?"
   ]
  },
  {
   "cell_type": "code",
   "execution_count": 17,
   "id": "12546b18",
   "metadata": {
    "id": "12546b18"
   },
   "outputs": [
    {
     "name": "stdin",
     "output_type": "stream",
     "text": [
      "Digite o comprimento  2\n"
     ]
    },
    {
     "name": "stdout",
     "output_type": "stream",
     "text": [
      "A area desse quadrado é de: 4.0\n"
     ]
    }
   ],
   "source": [
    "def calcular (com):\n",
    "    com = float(input('Digite o comprimento '))\n",
    "    ar = float(com)**2\n",
    "    return print(f'A area desse quadrado é de: {ar}')\n",
    "\n",
    "calcular(0)"
   ]
  },
  {
   "cell_type": "markdown",
   "id": "3f96f770",
   "metadata": {
    "id": "3f96f770"
   },
   "source": [
    "## Exercício 3: Converter Celsius para Fahrenheit\n",
    "### Situação Problema: Você está em um país onde a temperatura é medida em Fahrenheit. A temperatura atual é 25 graus Celsius. Qual é a temperatura equivalente em Fahrenheit?"
   ]
  },
  {
   "cell_type": "code",
   "execution_count": 22,
   "id": "c1923918",
   "metadata": {
    "id": "c1923918"
   },
   "outputs": [
    {
     "name": "stdin",
     "output_type": "stream",
     "text": [
      "Digite a temperatura  3\n"
     ]
    },
    {
     "name": "stdout",
     "output_type": "stream",
     "text": [
      "Essa temperatura 3.0 em fahrenheit é de: 37.4 graus F°\n"
     ]
    }
   ],
   "source": [
    "def conversão (cel):\n",
    "    cel = float(input('Digite a temperatura '))\n",
    "    art = float(cel)*1.8 + 32\n",
    "    return print(f'Essa temperatura {cel} em fahrenheit é de: {art} graus F°')\n",
    "\n",
    "conversão(0)"
   ]
  },
  {
   "cell_type": "markdown",
   "id": "535c92f1",
   "metadata": {
    "id": "535c92f1"
   },
   "source": [
    "## Exercício 4: Calcular a média de três números\n",
    "### Situação Problema: Você fez três exames e obteve as seguintes notas: 7.5, 8.0 e 6.5. Qual é a sua média nessas três provas?"
   ]
  },
  {
   "cell_type": "code",
   "execution_count": 31,
   "id": "c2c4fae5",
   "metadata": {
    "id": "c2c4fae5"
   },
   "outputs": [
    {
     "name": "stdin",
     "output_type": "stream",
     "text": [
      "Digite o primeiro valor  10\n",
      "Digite o segundo valor  10\n",
      "Digite o terceito valor  10\n"
     ]
    },
    {
     "name": "stdout",
     "output_type": "stream",
     "text": [
      "A média foi de: 10.0 \n"
     ]
    }
   ],
   "source": [
    "def media(v1,v2,v3):\n",
    "    v1 = float(input('Digite o primeiro valor '))\n",
    "    v2 = float(input('Digite o segundo valor '))\n",
    "    v3 = float(input('Digite o terceito valor '))\n",
    "    md = (float(v1) + float(v2) + float(v3))/3\n",
    "    return print(f'A média foi de: {md:.1f} ')\n",
    "\n",
    "media(0,0,0)"
   ]
  },
  {
   "cell_type": "markdown",
   "id": "dc19120f",
   "metadata": {
    "id": "dc19120f"
   },
   "source": [
    "## Exercício 5: Calcular a hipotenusa de um triângulo retângulo\n",
    "### Situação Problema: Você está construindo uma rampa para um skatepark. As duas partes da rampa formam um ângulo reto, e as medidas dos catetos são 4 metros e 5 metros. Qual é o comprimento da rampa (hipotenusa)?"
   ]
  },
  {
   "cell_type": "code",
   "execution_count": 34,
   "id": "e634d60c",
   "metadata": {
    "id": "e634d60c"
   },
   "outputs": [
    {
     "name": "stdin",
     "output_type": "stream",
     "text": [
      "Digite a medida  20\n",
      "Digite outra medida  20\n"
     ]
    },
    {
     "name": "stdout",
     "output_type": "stream",
     "text": [
      "A hipotenusa é de: 40.0\n"
     ]
    }
   ],
   "source": [
    "def hip (ca, co):\n",
    "    ca = float(input('Digite a medida '))\n",
    "    co = float(input('Digite outra medida '))\n",
    "    hep = ((float(ca) + float(co))**2)**0.5\n",
    "    return print(f'A hipotenusa é de: {hep:.1f}')\n",
    "hip(0,0)"
   ]
  },
  {
   "cell_type": "markdown",
   "id": "63fa58f9",
   "metadata": {
    "id": "63fa58f9"
   },
   "source": [
    "## Exercício 6: Calcular o perímetro de um quadrado\n",
    "### Situação Problema: Você está construindo um tapete quadrado para a sala de estar. Cada lado do tapete mede 3 metros. Qual é o perímetro total do tapete?"
   ]
  },
  {
   "cell_type": "code",
   "execution_count": 35,
   "id": "a2cc0651",
   "metadata": {
    "id": "a2cc0651"
   },
   "outputs": [
    {
     "name": "stdin",
     "output_type": "stream",
     "text": [
      "Digite a medida para calcular o perimetro  2\n"
     ]
    },
    {
     "name": "stdout",
     "output_type": "stream",
     "text": [
      "O perimetro do quadrado é de: 8.0\n"
     ]
    }
   ],
   "source": [
    "def calcular(qua):\n",
    "    qua = float(input('Digite a medida para calcular o perimetro '))\n",
    "    ze = float(qua)*4\n",
    "    return print(f'O perimetro do quadrado é de: {ze}')\n",
    "\n",
    "calcular(0)"
   ]
  },
  {
   "cell_type": "markdown",
   "id": "0bc6d476",
   "metadata": {
    "id": "0bc6d476"
   },
   "source": [
    "## Exercício 7: Calcular a média ponderada de três notas\n",
    "### Situação Problema: Você está estudando para três disciplinas diferentes. Suas notas são: 7.0 em Matemática, 8.5 em Ciências e 9.5 em História. Se a Matemática tem peso 2, Ciências tem peso 3 e História tem peso 5, qual é a sua média ponderada?\n",
    "\n"
   ]
  },
  {
   "cell_type": "code",
   "execution_count": 39,
   "id": "15b67f4a",
   "metadata": {
    "id": "15b67f4a"
   },
   "outputs": [
    {
     "name": "stdin",
     "output_type": "stream",
     "text": [
      "Digite sua média  10\n",
      "Digite sua média  10\n",
      "Digite sua média  10\n"
     ]
    },
    {
     "name": "stdout",
     "output_type": "stream",
     "text": [
      "A média ponderada é de: 10\n"
     ]
    }
   ],
   "source": [
    "def mdp(mat,cie,hist):\n",
    "    mat = float(input('Digite sua média '))*2\n",
    "    cie = float(input('Digite sua média '))*3\n",
    "    hist = float(input('Digite sua média '))*5\n",
    "    medpo = (float(mat) + float(cie) + float(hist) )/10\n",
    "    print(f'A média ponderada é de: {medpo:.0f}')\n",
    "\n",
    "mdp(0,0,0)"
   ]
  },
  {
   "cell_type": "markdown",
   "id": "a411f83c",
   "metadata": {
    "id": "a411f83c"
   },
   "source": [
    "## Exercício 8: Calcular a área de um círculo\n",
    "### Situação Problema: Você está pintando um alvo circular em uma parede. O raio do círculo é 2 metros. Qual é a área total que você precisa pintar?"
   ]
  },
  {
   "cell_type": "code",
   "execution_count": 47,
   "id": "e7a46d2d",
   "metadata": {
    "id": "e7a46d2d"
   },
   "outputs": [
    {
     "name": "stdin",
     "output_type": "stream",
     "text": [
      "Digite o raio  2\n"
     ]
    },
    {
     "name": "stdout",
     "output_type": "stream",
     "text": [
      "O raio é de: 9.86 metros\n"
     ]
    }
   ],
   "source": [
    "def ra(r):\n",
    "    raio = float(input('Digite o raio '))\n",
    "    are = (float(r)**2)\n",
    "    return print(f'O raio é de: {are:.2f} metros')\n",
    "\n",
    "ra(3.14)"
   ]
  },
  {
   "cell_type": "markdown",
   "id": "1d16b12a",
   "metadata": {
    "id": "1d16b12a"
   },
   "source": [
    "## Exercício 9: Converter quilômetros para milhas\n",
    "### Situação Problema: Você está planejando uma viagem de carro. O percurso tem 200 quilômetros de extensão. Qual é a distância equivalente em milhas?\n",
    "\n",
    "\n",
    "\n",
    "\n"
   ]
  },
  {
   "cell_type": "code",
   "execution_count": 52,
   "id": "1ca02ada",
   "metadata": {
    "id": "1ca02ada"
   },
   "outputs": [
    {
     "name": "stdin",
     "output_type": "stream",
     "text": [
      "Digite a quilometragem  200\n"
     ]
    },
    {
     "name": "stdout",
     "output_type": "stream",
     "text": [
      "A quantidade de milhas percorridas serão de: 124.301 milhas\n"
     ]
    }
   ],
   "source": [
    "def convercao(km):\n",
    "    km = float(input('Digite a quilometragem '))\n",
    "    cnve = float(km)/1.609\n",
    "    return print(f'A quantidade de milhas percorridas serão de: {cnve:.3f} milhas')\n",
    "\n",
    "convercao(0)"
   ]
  },
  {
   "cell_type": "markdown",
   "id": "b19544a3",
   "metadata": {
    "id": "b19544a3"
   },
   "source": [
    "## Exercício 10: Calcular a média aritmética de quatro números\n",
    "### Situação Problema: Você está acompanhando as notas de um aluno em quatro provas: 6.5, 7.0, 8.5 e 9.0. Qual é a média aritmética dessas quatro notas?\n",
    "\n",
    "\n"
   ]
  },
  {
   "cell_type": "code",
   "execution_count": 50,
   "id": "10c84074",
   "metadata": {
    "id": "10c84074"
   },
   "outputs": [
    {
     "name": "stdin",
     "output_type": "stream",
     "text": [
      "Digite o primeiro valor  10\n",
      "Digite o segundo valor  10\n",
      "Digite o terceito valor  10\n",
      "Digite o terceito valor  10\n"
     ]
    },
    {
     "name": "stdout",
     "output_type": "stream",
     "text": [
      "A média foi de: 10.0 \n"
     ]
    }
   ],
   "source": [
    "def media(v1,v2,v3,v4):\n",
    "    v1 = float(input('Digite o primeiro valor '))\n",
    "    v2 = float(input('Digite o segundo valor '))\n",
    "    v3 = float(input('Digite o terceito valor '))\n",
    "    v4 = float(input('Digite o terceito valor '))\n",
    "    md = (float(v1) + float(v2) + float(v3) + float(v4))/4\n",
    "    return print(f'A média foi de: {md:.1f} ')\n",
    "\n",
    "media(0,0,0,0)"
   ]
  }
 ],
 "metadata": {
  "colab": {
   "provenance": []
  },
  "kernelspec": {
   "display_name": "Python 3 (ipykernel)",
   "language": "python",
   "name": "python3"
  },
  "language_info": {
   "codemirror_mode": {
    "name": "ipython",
    "version": 3
   },
   "file_extension": ".py",
   "mimetype": "text/x-python",
   "name": "python",
   "nbconvert_exporter": "python",
   "pygments_lexer": "ipython3",
   "version": "3.11.7"
  }
 },
 "nbformat": 4,
 "nbformat_minor": 5
}
