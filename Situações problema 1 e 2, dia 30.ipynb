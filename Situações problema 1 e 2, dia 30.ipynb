{
 "cells": [
  {
   "cell_type": "code",
   "execution_count": 1,
   "id": "6b7c104c",
   "metadata": {},
   "outputs": [
    {
     "name": "stdout",
     "output_type": "stream",
     "text": [
      "Digite um número: 4\n",
      "É um número positivo\n"
     ]
    }
   ],
   "source": [
    "#Exercício 1\n",
    "número=float(input(\"Digite um número: \"))\n",
    "if número>0:\n",
    "    print('É um número positivo')\n",
    "elif número<0:\n",
    "    print('É um número negativo')\n",
    "else:\n",
    "    print('É nada')"
   ]
  },
  {
   "cell_type": "code",
   "execution_count": 12,
   "id": "8f825d8e",
   "metadata": {},
   "outputs": [
    {
     "name": "stdout",
     "output_type": "stream",
     "text": [
      "Digite uma letra: e\n",
      "É uma vogal\n"
     ]
    }
   ],
   "source": [
    "#Exercício 2\n",
    "letra=input(\"Digite uma letra: \")\n",
    "if letra == 'a' or letra == 'e' or letra == 'o' or letra =='u' or letra =='i':\n",
    "    print('É uma vogal')\n",
    "else:\n",
    "    print('É uma consoante')"
   ]
  },
  {
   "cell_type": "code",
   "execution_count": 13,
   "id": "42f28fb8",
   "metadata": {},
   "outputs": [
    {
     "name": "stdout",
     "output_type": "stream",
     "text": [
      "Digite um número de 1 a 7 e diremos qual dia da semana ele representa: 2\n",
      "Segunda-Feira\n"
     ]
    }
   ],
   "source": [
    "#Exercício 3\n",
    "dia=float(input(\"Digite um número de 1 a 7 e diremos qual dia da semana ele representa: \"))\n",
    "if dia==1:\n",
    "    print('Domingo')\n",
    "elif dia==2:\n",
    "    print('Segunda-Feira')\n",
    "elif dia==3:\n",
    "    print('Terça-Feira')\n",
    "elif dia==4:\n",
    "    print('Quarta-Feira')\n",
    "elif dia==5:\n",
    "    print('Quinta-Feira')\n",
    "elif dia==6:\n",
    "    print('Sexta-Feira')\n",
    "elif dia==7:\n",
    "    print('Sábado')\n",
    "else:\n",
    "    print('Inválido')\n"
   ]
  },
  {
   "cell_type": "code",
   "execution_count": 14,
   "id": "b2c8d76b",
   "metadata": {},
   "outputs": [
    {
     "name": "stdout",
     "output_type": "stream",
     "text": [
      "Coloque a primeira nota do aluno 3\n",
      "Coloque a segunda nota do aluno 4\n",
      "Coloque a terceira nota do aluno 5\n",
      "Não aprovado, você tirou 4.0\n"
     ]
    }
   ],
   "source": [
    "#Exercício 4\n",
    "nota1=float(input('Coloque a primeira nota do aluno '))\n",
    "nota2=float(input('Coloque a segunda nota do aluno '))\n",
    "nota3=float(input('Coloque a terceira nota do aluno '))\n",
    "media=(nota1+nota2+nota3)/3\n",
    "if media>=6:\n",
    "    print('Aprovado, você tirou {:.1f}'.format(media))\n",
    "else:\n",
    "    print('Não aprovado, você tirou {:.1f}'.format(media))"
   ]
  },
  {
   "cell_type": "markdown",
   "id": "1ca8e63a",
   "metadata": {},
   "source": [
    "# Situação Problema 2"
   ]
  },
  {
   "cell_type": "code",
   "execution_count": 15,
   "id": "dea3e515",
   "metadata": {},
   "outputs": [
    {
     "name": "stdout",
     "output_type": "stream",
     "text": [
      "numero par\n"
     ]
    }
   ],
   "source": [
    "#Exercício 1\n",
    "numero = float(input('Digite o número: '))\n",
    "if numero%2 == 0: print(\"numero par\")\n",
    "else: print( \"numero impar\")"
   ]
  },
  {
   "cell_type": "code",
   "execution_count": 16,
   "id": "9f232348",
   "metadata": {},
   "outputs": [
    {
     "name": "stdout",
     "output_type": "stream",
     "text": [
      "Qual a sua idade? 5\n",
      "Menor de idade, precisa de acompanhante\n"
     ]
    }
   ],
   "source": [
    "#Exercício 2\n",
    "pessoa = float(input('Qual a sua idade? '))\n",
    "if pessoa >= 18: print('Maior de idade, pode assistir')\n",
    "elif pessoa < 18: print(\"Menor de idade, precisa de acompanhante\")"
   ]
  },
  {
   "cell_type": "code",
   "execution_count": 19,
   "id": "e0394252",
   "metadata": {},
   "outputs": [
    {
     "name": "stdout",
     "output_type": "stream",
     "text": [
      "Qual o preço do primeiro produto? 3\n",
      "Qual o preço do segundo produto? 4\n",
      "O produto 2 é mais barato, ou seja, vale mais apena, a diferença é de R$1.0\n"
     ]
    }
   ],
   "source": [
    "#Exercício 3\n",
    "produto1=float(input('Qual o preço do primeiro produto? '))\n",
    "produto2=float(input('Qual o preço do segundo produto? '))\n",
    "if produto1>produto2:\n",
    "    diferença=produto1-produto2\n",
    "    print('O produto 1 é mais barato, ou seja, vale mais apena, a diferença é de R${}'.format(diferença))\n",
    "elif produto2>produto1:\n",
    "    diferença=produto2-produto1\n",
    "    print('O produto 2 é mais barato, ou seja, vale mais apena, a diferença é de R${}'.format(diferença))\n",
    "else:\n",
    "    print('Não tem diferença')"
   ]
  },
  {
   "cell_type": "code",
   "execution_count": 28,
   "id": "f9a10864",
   "metadata": {},
   "outputs": [
    {
     "name": "stdout",
     "output_type": "stream",
     "text": [
      "Quanto foi sua compra? Para verificarmos se irá receber desconto 234\n",
      "Você irá receber um desconto de 10%, sua compra custará: 210.60\n"
     ]
    }
   ],
   "source": [
    "#Exercício 4\n",
    "compra = float(input('Quanto foi sua compra? Para verificarmos se irá receber desconto '))\n",
    "if compra >100: \n",
    "    final=compra-(compra*0.10)\n",
    "    print('Você irá receber um desconto de 10%, sua compra custará: R${:.2f}'.format(final))\n",
    "elif compra < 100: \n",
    "    print(\"Nâo receberá o desconto, era necessario que ultrapasse os R$100,00. Mas foi apenas R${:.2f}\".format(compra))\n",
    "else:\n",
    "    print('Dado inválido')"
   ]
  },
  {
   "cell_type": "code",
   "execution_count": 42,
   "id": "d0c70ead",
   "metadata": {},
   "outputs": [
    {
     "name": "stdout",
     "output_type": "stream",
     "text": [
      "Deposite a nota do aluno: 9\n",
      "A\n"
     ]
    }
   ],
   "source": [
    "#Exercício 5\n",
    "nota=float(input('Deposite a nota do aluno: '))\n",
    "if nota>=9 and nota <=10:\n",
    "    print('A')\n",
    "elif nota>=7 and nota <9:\n",
    "    print('B')\n",
    "elif nota>=5 and nota <7:\n",
    "    print('C')\n",
    "elif nota>=3 and nota <5:\n",
    "    print('D')\n",
    "elif nota>=0 and nota <3:\n",
    "    print('E')\n",
    "else:\n",
    "    print('Dado inválido')"
   ]
  }
 ],
 "metadata": {
  "kernelspec": {
   "display_name": "Python 3 (ipykernel)",
   "language": "python",
   "name": "python3"
  },
  "language_info": {
   "codemirror_mode": {
    "name": "ipython",
    "version": 3
   },
   "file_extension": ".py",
   "mimetype": "text/x-python",
   "name": "python",
   "nbconvert_exporter": "python",
   "pygments_lexer": "ipython3",
   "version": "3.11.5"
  }
 },
 "nbformat": 4,
 "nbformat_minor": 5
}
