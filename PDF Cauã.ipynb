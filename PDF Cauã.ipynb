{
 "cells": [
  {
   "cell_type": "code",
   "execution_count": 112,
   "id": "41a75236",
   "metadata": {},
   "outputs": [
    {
     "name": "stdout",
     "output_type": "stream",
     "text": [
      "['banana', 'maçã', 'pera']\n",
      "['banana', 'maçã', 'pera', 'tomate', 'uva']\n"
     ]
    }
   ],
   "source": [
    "#Exercício 1\n",
    "produtos=['maçã','pera','banana']\n",
    "produtos.sort()\n",
    "print(produtos)\n",
    "novos_produtos= ['tomate','uva']\n",
    "produtos.extend(novos_produtos)\n",
    "produtos.sort()\n",
    "print(produtos)"
   ]
  },
  {
   "cell_type": "code",
   "execution_count": 140,
   "id": "62c6decd",
   "metadata": {},
   "outputs": [
    {
     "name": "stdout",
     "output_type": "stream",
     "text": [
      "[1, 2, 3, 4]\n"
     ]
    }
   ],
   "source": [
    "#Exercício 2\n",
    "lista1=[1,2,3,4,\"abc\"]\n",
    "lista1.pop(lista1.index('abc'))\n",
    "\n",
    "print(lista1)"
   ]
  },
  {
   "cell_type": "code",
   "execution_count": 142,
   "id": "6aaa3017",
   "metadata": {},
   "outputs": [
    {
     "name": "stdout",
     "output_type": "stream",
     "text": [
      "6\n",
      "8\n",
      "3\n"
     ]
    }
   ],
   "source": [
    "#Exercício 3\n",
    "list = [3,4,5,6,7,8]\n",
    "print(len(list))\n",
    "print(max(list))\n",
    "print(min(list))"
   ]
  },
  {
   "cell_type": "code",
   "execution_count": 154,
   "id": "1b8e551f",
   "metadata": {},
   "outputs": [
    {
     "name": "stdout",
     "output_type": "stream",
     "text": [
      "Você quer adicionar ou remover uma música? d\n"
     ]
    }
   ],
   "source": [
    "#Exercício 4\n",
    "musicas=['Believer', 'BOHEMIAN RHAPSODY','SATISFACTION']\n",
    "escolha=input('Você quer adicionar ou remover uma música? ')\n",
    "escolha.lower\n",
    "\n",
    "if escolha in ('adicionar','sim'):\n",
    "    musica=input('Adicione a música ')\n",
    "    if musica == '':\n",
    "        print('Você não adicionou nenhuma musica')\n",
    "    else:\n",
    "        musicas.append(musica)\n",
    "        print(musicas)\n",
    "        \n",
    "elif escolha in ('remover','não'):\n",
    "    musica=input('Adicione a música a ser removida ')\n",
    "    if musica == '':\n",
    "        print('Você não adicionou nenhuma musica')\n",
    "    else:\n",
    "        musicas.remove(musica)\n",
    "        print(musicas)"
   ]
  },
  {
   "cell_type": "code",
   "execution_count": 174,
   "id": "90373ccb",
   "metadata": {},
   "outputs": [
    {
     "name": "stdout",
     "output_type": "stream",
     "text": [
      "Qual item deve ser substituido?pera\n",
      "Qual o substituto? água\n",
      "['maçã', 'água', 'banana']\n"
     ]
    }
   ],
   "source": [
    "#Exercício 5\n",
    "lista=['chocolate','farinha','oléo']\n",
    "\n",
    "escolha=input('Qual item deve ser substituido?')\n",
    "subs=produtos.index(escolha)\n",
    "produtos[subs]=input('Qual o substituto? ')\n",
    "\n",
    "print(produtos)"
   ]
  }
 ],
 "metadata": {
  "kernelspec": {
   "display_name": "Python 3 (ipykernel)",
   "language": "python",
   "name": "python3"
  },
  "language_info": {
   "codemirror_mode": {
    "name": "ipython",
    "version": 3
   },
   "file_extension": ".py",
   "mimetype": "text/x-python",
   "name": "python",
   "nbconvert_exporter": "python",
   "pygments_lexer": "ipython3",
   "version": "3.11.5"
  }
 },
 "nbformat": 4,
 "nbformat_minor": 5
}
