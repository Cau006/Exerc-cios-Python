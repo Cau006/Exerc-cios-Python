{
 "cells": [
  {
   "cell_type": "code",
   "execution_count": 4,
   "id": "544cdcaa",
   "metadata": {
    "scrolled": true
   },
   "outputs": [
    {
     "name": "stdout",
     "output_type": "stream",
     "text": [
      "Quanto é o aluguel diario?555\n",
      "Quanto custa cada quilometro50\n",
      "O alguel determinado custa R$555 e valor por quilometro é R$ 50\n"
     ]
    }
   ],
   "source": [
    "#Situação problema 1\n",
    "#Para o dono\n",
    "valor_diario_determinado=int(input('Quanto é o aluguel diario?'))\n",
    "valor_quilometro_determinado=int(input('Quanto custa cada quilometro'))\n",
    "print('O alguel determinado custa R${} e valor por quilometro é R$ {}'.format(valor_diario_determinado , valor_quilometro_determinado))"
   ]
  },
  {
   "cell_type": "code",
   "execution_count": 6,
   "id": "42763d35",
   "metadata": {},
   "outputs": [
    {
     "name": "stdout",
     "output_type": "stream",
     "text": [
      "Quanto tempo você deseja alugar este carro?5\n",
      "Por quantos quilometros você pretende percorrer?20\n",
      "Você irá gastar 3775\n"
     ]
    }
   ],
   "source": [
    "#Situação problema 1\n",
    "#Para o cliente\n",
    "diario=int(input('Quanto tempo você deseja alugar este carro? '))\n",
    "quilometro=int(input('Por quantos quilometros você pretende percorrer?' ))\n",
    "gasto_total=valor_diario_determinado*diario+valor_quilometro_determinado*quilometro\n",
    "print('Você irá gastar R${}' .format(gasto_total))"
   ]
  },
  {
   "cell_type": "markdown",
   "id": "bff56e03",
   "metadata": {},
   "source": [
    "# Situação problema 2 "
   ]
  },
  {
   "cell_type": "code",
   "execution_count": 11,
   "id": "4a3a42a7",
   "metadata": {},
   "outputs": [
    {
     "name": "stdout",
     "output_type": "stream",
     "text": [
      "Digite seu salário bruto anterior e mostraremos o salário atual 4500\n",
      "Seu sálario bruto atual é R$5040.00, ele teve um aumento de 12% comparado ao seu antigo sálario que era R$4500.00, o total de descontos é R$907.20 e por último seu sálario liquído é R$4132.80\n"
     ]
    }
   ],
   "source": [
    "salario_an=float(input('Digite seu salário bruto anterior e mostraremos o salário atual '))\n",
    "salario_brat=salario_an*1.12\n",
    "descontos=salario_brat*0.07+salario_brat*0.03+salario_brat*0.08\n",
    "salario_li=salario_brat-descontos\n",
    "print('Seu sálario bruto atual é R${:.2f}, ele teve um aumento de 12% comparado ao seu antigo sálario que era R${:.2f}, o total de descontos é R${:.2f} e por último seu sálario liquído é R${:.2f}'.format(salario_brat ,salario_an , descontos , salario_li ))"
   ]
  }
 ],
 "metadata": {
  "kernelspec": {
   "display_name": "Python 3 (ipykernel)",
   "language": "python",
   "name": "python3"
  },
  "language_info": {
   "codemirror_mode": {
    "name": "ipython",
    "version": 3
   },
   "file_extension": ".py",
   "mimetype": "text/x-python",
   "name": "python",
   "nbconvert_exporter": "python",
   "pygments_lexer": "ipython3",
   "version": "3.11.5"
  }
 },
 "nbformat": 4,
 "nbformat_minor": 5
}
