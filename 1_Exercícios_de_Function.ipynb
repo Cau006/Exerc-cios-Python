{
 "cells": [
  {
   "cell_type": "markdown",
   "metadata": {
    "id": "hTpcL0p52kT7"
   },
   "source": [
    "# Exercícios\n",
    "\n",
    "Para fazer um treino simples antes de avançarmos em mais functions, vamos criar uma function que resolve 1 \"desafio simples\"\n",
    "\n",
    "## 1. Function para Cálculo de Carga Tributária\n",
    "\n",
    "(Lembrando, não se atente ao funcionamento real da carga tributária, é apenas um exemplo imaginário para treinarmos as functions com algo mais prático)\n",
    "\n",
    "Imagine que você trabalha no setor contábil de uma grande empresa de Varejo.\n",
    "\n",
    "Crie uma function que calcule qual o % de carga tributária que está sendo aplicado sobre um determinado produto, dado o preço de venda, o \"lucro\" e os custos (com exceção do imposto) dele."
   ]
  },
  {
   "cell_type": "code",
   "execution_count": 1,
   "metadata": {
    "id": "RUV89PEq2kT9"
   },
   "outputs": [],
   "source": [
    "preco = 1500\n",
    "custo = 400\n",
    "lucro = 800\n"
   ]
  },
  {
   "cell_type": "markdown",
   "metadata": {
    "id": "adx1f64E2kT-"
   },
   "source": [
    "Repare que preço - custo não é igual ao lucro, porque ainda foi descontado o imposto. Sua functiona deve calcular qual foi o % de imposto aplicado sobre o preço total."
   ]
  },
  {
   "cell_type": "code",
   "execution_count": 4,
   "metadata": {
    "id": "xFp-ouBE2kT-"
   },
   "outputs": [],
   "source": [
    "def carga(preco,custo,lucro):\n",
    "    margem_bruta = preco - custo\n",
    "    imposto = margem_bruta - lucro\n",
    "    carga_tributaria = (imposto / preco) * 100\n",
    "    print(f'A porcentagem da carga tributária em cima do produto é {carga_tributaria :.1f}%')"
   ]
  },
  {
   "cell_type": "code",
   "execution_count": 5,
   "metadata": {
    "id": "NzqRLTG72kT_"
   },
   "outputs": [
    {
     "name": "stdout",
     "output_type": "stream",
     "text": [
      "A porcentagem da carga tributária em cima do produto é 20.0%\n"
     ]
    }
   ],
   "source": [
    "carga(preco,custo,lucro)"
   ]
  }
 ],
 "metadata": {
  "colab": {
   "provenance": []
  },
  "kernelspec": {
   "display_name": "Python 3 (ipykernel)",
   "language": "python",
   "name": "python3"
  },
  "language_info": {
   "codemirror_mode": {
    "name": "ipython",
    "version": 3
   },
   "file_extension": ".py",
   "mimetype": "text/x-python",
   "name": "python",
   "nbconvert_exporter": "python",
   "pygments_lexer": "ipython3",
   "version": "3.11.7"
  }
 },
 "nbformat": 4,
 "nbformat_minor": 4
}
